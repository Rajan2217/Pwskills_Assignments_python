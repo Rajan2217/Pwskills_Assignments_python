{
 "cells": [
  {
   "cell_type": "code",
   "execution_count": 1,
   "id": "5b768ad2-20d1-4478-a689-12d805a8ae7f",
   "metadata": {},
   "outputs": [],
   "source": [
    "# Q - 1\n",
    "# def keyword is used to make a function.\n"
   ]
  },
  {
   "cell_type": "code",
   "execution_count": 3,
   "id": "ebe7e4b6-d02a-4332-8de6-74fa68786167",
   "metadata": {},
   "outputs": [],
   "source": [
    "x = list(range(1,25))"
   ]
  },
  {
   "cell_type": "code",
   "execution_count": 4,
   "id": "e592c6b6-37fa-4dec-b8ac-bf8c852e55d0",
   "metadata": {},
   "outputs": [],
   "source": [
    "def test(q):\n",
    "    l = []\n",
    "    for i in q:\n",
    "        if (i%2==1):\n",
    "            l.append(i)\n",
    "    return l\n"
   ]
  },
  {
   "cell_type": "code",
   "execution_count": 5,
   "id": "1b6e5ba2-1b9f-4774-9458-c6e4f84b543c",
   "metadata": {},
   "outputs": [
    {
     "data": {
      "text/plain": [
       "[1, 3, 5, 7, 9, 11, 13, 15, 17, 19, 21, 23]"
      ]
     },
     "execution_count": 5,
     "metadata": {},
     "output_type": "execute_result"
    }
   ],
   "source": [
    "test(x)"
   ]
  },
  {
   "cell_type": "code",
   "execution_count": 1,
   "id": "1e71fc62-6cc0-435a-87c4-01a302d049ca",
   "metadata": {},
   "outputs": [],
   "source": [
    "# Q - 2.\n",
    "\"\"\"\n",
    "*args is used in the function when number of inputs in the function is not predefined thus used by the user to input\n",
    "unlimited number of different types of data.\n",
    "**kwargs is used by the user to input unlimited number of key-value  pair of data in function.\n",
    "\n",
    "\"\"\"\n"
   ]
  },
  {
   "cell_type": "code",
   "execution_count": 6,
   "id": "8427381c-10dd-4864-a11d-12beb035d54e",
   "metadata": {},
   "outputs": [],
   "source": [
    "#use of *args:\n",
    "\n",
    "def test(*args):\n",
    "    return args\n"
   ]
  },
  {
   "cell_type": "code",
   "execution_count": 7,
   "id": "4a45e71d-59a0-440e-a313-280761b632a4",
   "metadata": {},
   "outputs": [
    {
     "data": {
      "text/plain": [
       "(1, 2, 3, 4, 5, 'Rajan', 'Chauhan')"
      ]
     },
     "execution_count": 7,
     "metadata": {},
     "output_type": "execute_result"
    }
   ],
   "source": [
    "test(1,2,3,4,5,\"Rajan\",\"Chauhan\")"
   ]
  },
  {
   "cell_type": "code",
   "execution_count": 8,
   "id": "0f1807d0-0c4f-4c4f-b696-0c7f79552911",
   "metadata": {},
   "outputs": [],
   "source": [
    "# use of **kwargs\n",
    "\n",
    "def test2(**kwargs):\n",
    "    return kwargs\n",
    "    "
   ]
  },
  {
   "cell_type": "code",
   "execution_count": 9,
   "id": "3b0a5b85-65f8-47bd-997d-414d9ea988a6",
   "metadata": {},
   "outputs": [
    {
     "data": {
      "text/plain": [
       "{'x': 2, 'y': 3, 'name': 'Rajan_Chauhan'}"
      ]
     },
     "execution_count": 9,
     "metadata": {},
     "output_type": "execute_result"
    }
   ],
   "source": [
    "test2(x = 2, y = 3, name = \"Rajan_Chauhan\")"
   ]
  },
  {
   "cell_type": "code",
   "execution_count": 10,
   "id": "52d33072-1f04-428e-aff9-ca98da33b27e",
   "metadata": {},
   "outputs": [],
   "source": [
    "#..............................\n"
   ]
  },
  {
   "cell_type": "code",
   "execution_count": null,
   "id": "88ad8170-6a68-4155-8b85-77443e21eace",
   "metadata": {},
   "outputs": [],
   "source": [
    "# Q - 3\n",
    "# Iterator - Iterator is an object used to iterate over iterable objects like as list, tuples, dictionary, sets.\n",
    "#__iter__ is a method used to initialize iterator object and the method used for iteration is __next__\n",
    "\n",
    "x = [2, 4, 6, 8, 10, 12, 14, 16, 18, 20]\n",
    "y = iter(x)\n",
    "count = 0\n",
    "\n",
    "while count<5:\n",
    "    z = next(y)\n",
    "    count+=1\n",
    "    print(z)\n",
    "\n"
   ]
  },
  {
   "cell_type": "code",
   "execution_count": 13,
   "id": "a3e3078f-cb93-4945-a397-8ab635983fe6",
   "metadata": {},
   "outputs": [
    {
     "name": "stdout",
     "output_type": "stream",
     "text": [
      "0\n",
      "1\n",
      "1\n",
      "2\n",
      "3\n",
      "5\n",
      "8\n",
      "13\n",
      "21\n",
      "34\n"
     ]
    }
   ],
   "source": [
    "# Q - 4\n",
    "'''generator is similar to a function which process the code and gives data one-by-one, but in function data is first stored\n",
    " as a whole such as in list and then it can be seen which utilize so much of space in main memory.\n",
    " \n",
    "Yield keyword is used to facilitate in making a generator\n",
    "'''\n",
    "# example of a generator function - fibonacci series\n",
    "def fib(a):\n",
    "    x,y = 0,1\n",
    "    for i in range(a):\n",
    "        yield x\n",
    "        x,y = y, x+y\n",
    "        \n",
    "for i in fib(10):\n",
    "    print(i)"
   ]
  },
  {
   "cell_type": "code",
   "execution_count": 5,
   "id": "078d5dbd-b678-4f07-a2f4-9e3f8caf29b3",
   "metadata": {},
   "outputs": [],
   "source": [
    "# Q - 5\n",
    "# start = int(input(\"enter your stating limit\"))\n",
    "# end = int(input(\"enter final\"))\n",
    "def primo(a):\n",
    "    for i in a:\n",
    "        if i > 1:\n",
    "            for j in range(2, i):\n",
    "                if i%j==0:\n",
    "                    break\n",
    "            else:\n",
    "                yield i\n",
    "                "
   ]
  },
  {
   "cell_type": "code",
   "execution_count": 6,
   "id": "78e1c450-8060-4e76-97d8-bf1242b54dc8",
   "metadata": {},
   "outputs": [],
   "source": [
    "x = primo(range(1000))"
   ]
  },
  {
   "cell_type": "code",
   "execution_count": 7,
   "id": "93f31551-2fec-48ef-9b78-084909493a3a",
   "metadata": {},
   "outputs": [
    {
     "name": "stdout",
     "output_type": "stream",
     "text": [
      "2\n",
      "3\n",
      "5\n",
      "7\n",
      "11\n",
      "13\n",
      "17\n",
      "19\n",
      "23\n",
      "29\n",
      "31\n",
      "37\n",
      "41\n",
      "43\n",
      "47\n",
      "53\n",
      "59\n",
      "61\n",
      "67\n",
      "71\n",
      "73\n",
      "79\n",
      "83\n",
      "89\n",
      "97\n",
      "101\n",
      "103\n",
      "107\n",
      "109\n",
      "113\n",
      "127\n",
      "131\n",
      "137\n",
      "139\n",
      "149\n",
      "151\n",
      "157\n",
      "163\n",
      "167\n",
      "173\n",
      "179\n",
      "181\n",
      "191\n",
      "193\n",
      "197\n",
      "199\n",
      "211\n",
      "223\n",
      "227\n",
      "229\n",
      "233\n",
      "239\n",
      "241\n",
      "251\n",
      "257\n",
      "263\n",
      "269\n",
      "271\n",
      "277\n",
      "281\n",
      "283\n",
      "293\n",
      "307\n",
      "311\n",
      "313\n",
      "317\n",
      "331\n",
      "337\n",
      "347\n",
      "349\n",
      "353\n",
      "359\n",
      "367\n",
      "373\n",
      "379\n",
      "383\n",
      "389\n",
      "397\n",
      "401\n",
      "409\n",
      "419\n",
      "421\n",
      "431\n",
      "433\n",
      "439\n",
      "443\n",
      "449\n",
      "457\n",
      "461\n",
      "463\n",
      "467\n",
      "479\n",
      "487\n",
      "491\n",
      "499\n",
      "503\n",
      "509\n",
      "521\n",
      "523\n",
      "541\n",
      "547\n",
      "557\n",
      "563\n",
      "569\n",
      "571\n",
      "577\n",
      "587\n",
      "593\n",
      "599\n",
      "601\n",
      "607\n",
      "613\n",
      "617\n",
      "619\n",
      "631\n",
      "641\n",
      "643\n",
      "647\n",
      "653\n",
      "659\n",
      "661\n",
      "673\n",
      "677\n",
      "683\n",
      "691\n",
      "701\n",
      "709\n",
      "719\n",
      "727\n",
      "733\n",
      "739\n",
      "743\n",
      "751\n",
      "757\n",
      "761\n",
      "769\n",
      "773\n",
      "787\n",
      "797\n",
      "809\n",
      "811\n",
      "821\n",
      "823\n",
      "827\n",
      "829\n",
      "839\n",
      "853\n",
      "857\n",
      "859\n",
      "863\n",
      "877\n",
      "881\n",
      "883\n",
      "887\n",
      "907\n",
      "911\n",
      "919\n",
      "929\n",
      "937\n",
      "941\n",
      "947\n",
      "953\n",
      "967\n",
      "971\n",
      "977\n",
      "983\n",
      "991\n",
      "997\n"
     ]
    }
   ],
   "source": [
    "for k in x:\n",
    "    print(k)\n",
    "    \n",
    "    \n",
    "    \n",
    "    "
   ]
  },
  {
   "cell_type": "code",
   "execution_count": 8,
   "id": "4323d3de-aeff-4b74-8f34-6ecf9511764b",
   "metadata": {},
   "outputs": [],
   "source": [
    "#........................"
   ]
  },
  {
   "cell_type": "code",
   "execution_count": 9,
   "id": "8e186b23-41d9-46ae-84b8-0eaf6c8fb30c",
   "metadata": {},
   "outputs": [
    {
     "name": "stdout",
     "output_type": "stream",
     "text": [
      "0\n",
      "1\n",
      "1\n",
      "2\n",
      "3\n",
      "5\n",
      "8\n",
      "13\n",
      "21\n",
      "34\n"
     ]
    }
   ],
   "source": [
    "# Q-6:\n",
    "\n",
    "count = 0\n",
    "x, y = 0 , 1\n",
    "while count<10:\n",
    "    print(x)\n",
    "    x , y = y , x+y\n",
    "    count+=1\n",
    "    "
   ]
  },
  {
   "cell_type": "code",
   "execution_count": 10,
   "id": "40d61566-a99b-4c38-b697-f42c9fe2a192",
   "metadata": {},
   "outputs": [],
   "source": [
    "#..........................."
   ]
  },
  {
   "cell_type": "code",
   "execution_count": 2,
   "id": "63b2d9dd-906e-4694-ae98-47538fd76b27",
   "metadata": {},
   "outputs": [
    {
     "data": {
      "text/plain": [
       "['P', 'W', 'S', 'K', 'I', 'L', 'L', 'S']"
      ]
     },
     "execution_count": 2,
     "metadata": {},
     "output_type": "execute_result"
    }
   ],
   "source": [
    "# Q - 7\n",
    "\n",
    "x = \"pwskills\"\n",
    "[i.upper() for i in x]"
   ]
  },
  {
   "cell_type": "code",
   "execution_count": 3,
   "id": "b1f398ee-edcb-4ee1-9a62-2bd9c4a1834f",
   "metadata": {},
   "outputs": [],
   "source": [
    "#......................................."
   ]
  },
  {
   "cell_type": "code",
   "execution_count": 2,
   "id": "90ae00d1-0695-481f-b8fb-9dfeee06ee49",
   "metadata": {},
   "outputs": [
    {
     "name": "stdin",
     "output_type": "stream",
     "text": [
      "enter the number 123\n"
     ]
    },
    {
     "name": "stdout",
     "output_type": "stream",
     "text": [
      "not a palindrome\n"
     ]
    }
   ],
   "source": [
    "# Q - 8\n",
    "x = input(\"enter the number\")\n",
    "while type(x) == str:\n",
    "    y = x[::-1]\n",
    "    if y==x:\n",
    "        print(\"palindrome\")\n",
    "        break\n",
    "    else:\n",
    "        print(\"not a palindrome\")\n",
    "        break"
   ]
  },
  {
   "cell_type": "code",
   "execution_count": 3,
   "id": "e6e2afca-b51d-4151-a412-729083f8c399",
   "metadata": {},
   "outputs": [],
   "source": [
    "#..........................................."
   ]
  },
  {
   "cell_type": "code",
   "execution_count": 4,
   "id": "cef7858b-a93e-4d6b-b0f4-be47c277d46f",
   "metadata": {},
   "outputs": [
    {
     "data": {
      "text/plain": [
       "[1,\n",
       " 3,\n",
       " 5,\n",
       " 7,\n",
       " 9,\n",
       " 11,\n",
       " 13,\n",
       " 15,\n",
       " 17,\n",
       " 19,\n",
       " 21,\n",
       " 23,\n",
       " 25,\n",
       " 27,\n",
       " 29,\n",
       " 31,\n",
       " 33,\n",
       " 35,\n",
       " 37,\n",
       " 39,\n",
       " 41,\n",
       " 43,\n",
       " 45,\n",
       " 47,\n",
       " 49,\n",
       " 51,\n",
       " 53,\n",
       " 55,\n",
       " 57,\n",
       " 59,\n",
       " 61,\n",
       " 63,\n",
       " 65,\n",
       " 67,\n",
       " 69,\n",
       " 71,\n",
       " 73,\n",
       " 75,\n",
       " 77,\n",
       " 79,\n",
       " 81,\n",
       " 83,\n",
       " 85,\n",
       " 87,\n",
       " 89,\n",
       " 91,\n",
       " 93,\n",
       " 95,\n",
       " 97,\n",
       " 99]"
      ]
     },
     "execution_count": 4,
     "metadata": {},
     "output_type": "execute_result"
    }
   ],
   "source": [
    "# Q - 9\n",
    "\n",
    "[i for i in range(101) if i%2==1]"
   ]
  },
  {
   "cell_type": "code",
   "execution_count": null,
   "id": "7123f99c-c534-4219-af2c-0d775b6e8b04",
   "metadata": {},
   "outputs": [],
   "source": []
  }
 ],
 "metadata": {
  "kernelspec": {
   "display_name": "Python 3 (ipykernel)",
   "language": "python",
   "name": "python3"
  },
  "language_info": {
   "codemirror_mode": {
    "name": "ipython",
    "version": 3
   },
   "file_extension": ".py",
   "mimetype": "text/x-python",
   "name": "python",
   "nbconvert_exporter": "python",
   "pygments_lexer": "ipython3",
   "version": "3.10.8"
  }
 },
 "nbformat": 4,
 "nbformat_minor": 5
}
