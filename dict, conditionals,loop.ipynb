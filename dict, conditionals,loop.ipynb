{
 "cells": [
  {
   "cell_type": "code",
   "execution_count": 1,
   "id": "98b39861-d4ad-4272-8f2b-3fc686a879b1",
   "metadata": {},
   "outputs": [],
   "source": [
    "d = {}"
   ]
  },
  {
   "cell_type": "code",
   "execution_count": 2,
   "id": "46bb8a2d-9751-498e-95cd-8a3c74389f20",
   "metadata": {},
   "outputs": [
    {
     "data": {
      "text/plain": [
       "dict"
      ]
     },
     "execution_count": 2,
     "metadata": {},
     "output_type": "execute_result"
    }
   ],
   "source": [
    "type(d)"
   ]
  },
  {
   "cell_type": "code",
   "execution_count": 3,
   "id": "5e9130a5-91c7-4599-ac47-62a24a4a4a42",
   "metadata": {},
   "outputs": [],
   "source": [
    "d1 = {'key':\"rajan\"}"
   ]
  },
  {
   "cell_type": "code",
   "execution_count": 4,
   "id": "50263623-22b6-4d36-af26-1112d6b9671c",
   "metadata": {},
   "outputs": [
    {
     "data": {
      "text/plain": [
       "{'key': 'rajan'}"
      ]
     },
     "execution_count": 4,
     "metadata": {},
     "output_type": "execute_result"
    }
   ],
   "source": [
    "d1"
   ]
  },
  {
   "cell_type": "code",
   "execution_count": 23,
   "id": "4bdb36f0-29df-4da4-97f2-26a35d508fc9",
   "metadata": {},
   "outputs": [],
   "source": [
    "d2 = {'name': \"rajan\", 'email': \"vtrajanvt@gmailcom\", 'phone':79005022, True:'its me'}"
   ]
  },
  {
   "cell_type": "code",
   "execution_count": 6,
   "id": "ed35f8aa-6adf-4549-813f-11ddb0123de7",
   "metadata": {},
   "outputs": [
    {
     "data": {
      "text/plain": [
       "{'name': 'rajan', 'email': 'vtrajanvt@gmailcom', 'phone': 79005022}"
      ]
     },
     "execution_count": 6,
     "metadata": {},
     "output_type": "execute_result"
    }
   ],
   "source": [
    "d2"
   ]
  },
  {
   "cell_type": "code",
   "execution_count": 8,
   "id": "aa96ed52-d59b-4f0a-8f0f-601dcb442dba",
   "metadata": {},
   "outputs": [],
   "source": [
    "d3 = {1:\"rajan\"}"
   ]
  },
  {
   "cell_type": "code",
   "execution_count": 9,
   "id": "03128c08-c771-4832-8a68-4e969322f774",
   "metadata": {},
   "outputs": [
    {
     "data": {
      "text/plain": [
       "{1: 'rajan'}"
      ]
     },
     "execution_count": 9,
     "metadata": {},
     "output_type": "execute_result"
    }
   ],
   "source": [
    "d3\n"
   ]
  },
  {
   "cell_type": "code",
   "execution_count": 10,
   "id": "b31d6fe1-6057-4f1c-a744-916f6e645380",
   "metadata": {},
   "outputs": [],
   "source": [
    "d4 = {0:12}"
   ]
  },
  {
   "cell_type": "code",
   "execution_count": 11,
   "id": "a9235929-e7a2-47cf-b284-f69dbefb1114",
   "metadata": {},
   "outputs": [
    {
     "data": {
      "text/plain": [
       "{0: 12}"
      ]
     },
     "execution_count": 11,
     "metadata": {},
     "output_type": "execute_result"
    }
   ],
   "source": [
    "d4"
   ]
  },
  {
   "cell_type": "code",
   "execution_count": 12,
   "id": "e75c3a54-6ee4-4446-b814-23b4f3735ccc",
   "metadata": {},
   "outputs": [],
   "source": [
    "d5= {True}"
   ]
  },
  {
   "cell_type": "code",
   "execution_count": 13,
   "id": "a2ae9597-c928-424c-9f4e-3507fec617e8",
   "metadata": {},
   "outputs": [
    {
     "data": {
      "text/plain": [
       "{True}"
      ]
     },
     "execution_count": 13,
     "metadata": {},
     "output_type": "execute_result"
    }
   ],
   "source": [
    "d5"
   ]
  },
  {
   "cell_type": "code",
   "execution_count": 14,
   "id": "14f9e2b3-c47d-46bb-9f88-b8f6dc94d9dd",
   "metadata": {},
   "outputs": [
    {
     "data": {
      "text/plain": [
       "{'name': 'rajan', 'email': 'vtrajanvt@gmailcom', 'phone': 79005022}"
      ]
     },
     "execution_count": 14,
     "metadata": {},
     "output_type": "execute_result"
    }
   ],
   "source": [
    "d2"
   ]
  },
  {
   "cell_type": "code",
   "execution_count": 15,
   "id": "94ea7740-51dd-4b20-9062-065a8664be44",
   "metadata": {},
   "outputs": [
    {
     "data": {
      "text/plain": [
       "'rajan'"
      ]
     },
     "execution_count": 15,
     "metadata": {},
     "output_type": "execute_result"
    }
   ],
   "source": [
    "d2['name']"
   ]
  },
  {
   "cell_type": "code",
   "execution_count": 16,
   "id": "1eaaac12-88f0-4b5c-9ffb-f40220092489",
   "metadata": {},
   "outputs": [
    {
     "data": {
      "text/plain": [
       "12"
      ]
     },
     "execution_count": 16,
     "metadata": {},
     "output_type": "execute_result"
    }
   ],
   "source": [
    "d4[0\n",
    "  ]"
   ]
  },
  {
   "cell_type": "code",
   "execution_count": 17,
   "id": "eccaf658-0cb2-4a65-8c55-a9ebb0717196",
   "metadata": {},
   "outputs": [
    {
     "data": {
      "text/plain": [
       "'rajan'"
      ]
     },
     "execution_count": 17,
     "metadata": {},
     "output_type": "execute_result"
    }
   ],
   "source": [
    "d3[1]"
   ]
  },
  {
   "cell_type": "code",
   "execution_count": 18,
   "id": "3b68d688-d7d2-4e6e-b045-a4361c42f527",
   "metadata": {},
   "outputs": [
    {
     "data": {
      "text/plain": [
       "{1: 'rajan'}"
      ]
     },
     "execution_count": 18,
     "metadata": {},
     "output_type": "execute_result"
    }
   ],
   "source": [
    "d3"
   ]
  },
  {
   "cell_type": "code",
   "execution_count": 19,
   "id": "098e0462-2b30-4eed-a5c2-1a5149ab3dd6",
   "metadata": {},
   "outputs": [
    {
     "data": {
      "text/plain": [
       "{0: 12}"
      ]
     },
     "execution_count": 19,
     "metadata": {},
     "output_type": "execute_result"
    }
   ],
   "source": [
    "d4"
   ]
  },
  {
   "cell_type": "code",
   "execution_count": 20,
   "id": "95b8d77d-2417-4f30-9501-08933cf4fcc2",
   "metadata": {},
   "outputs": [
    {
     "data": {
      "text/plain": [
       "{True}"
      ]
     },
     "execution_count": 20,
     "metadata": {},
     "output_type": "execute_result"
    }
   ],
   "source": [
    "d5\n",
    "\n"
   ]
  },
  {
   "cell_type": "code",
   "execution_count": 21,
   "id": "4fdea111-d1f4-4920-a8ff-4531438796b6",
   "metadata": {},
   "outputs": [],
   "source": [
    "d5=[1]"
   ]
  },
  {
   "cell_type": "code",
   "execution_count": 22,
   "id": "2df1026d-5185-4563-ac2b-6e550e4c4fe3",
   "metadata": {},
   "outputs": [
    {
     "data": {
      "text/plain": [
       "[1]"
      ]
     },
     "execution_count": 22,
     "metadata": {},
     "output_type": "execute_result"
    }
   ],
   "source": [
    "d5\n"
   ]
  },
  {
   "cell_type": "code",
   "execution_count": 24,
   "id": "897af845-7589-4d1e-9bee-39505d522a09",
   "metadata": {},
   "outputs": [
    {
     "data": {
      "text/plain": [
       "{'name': 'rajan',\n",
       " 'email': 'vtrajanvt@gmailcom',\n",
       " 'phone': 79005022,\n",
       " True: 'its me'}"
      ]
     },
     "execution_count": 24,
     "metadata": {},
     "output_type": "execute_result"
    }
   ],
   "source": [
    "d2\n"
   ]
  },
  {
   "cell_type": "code",
   "execution_count": 25,
   "id": "ae2ade0f-38a8-4828-875b-6944f00cf354",
   "metadata": {},
   "outputs": [
    {
     "data": {
      "text/plain": [
       "'its me'"
      ]
     },
     "execution_count": 25,
     "metadata": {},
     "output_type": "execute_result"
    }
   ],
   "source": [
    "d2[1]"
   ]
  },
  {
   "cell_type": "code",
   "execution_count": 29,
   "id": "af2e0f5a-5fd8-4296-99d4-43aaa618312c",
   "metadata": {},
   "outputs": [],
   "source": [
    "d7 = {False: \"hell\", False: \"yep\" }"
   ]
  },
  {
   "cell_type": "code",
   "execution_count": 28,
   "id": "cd722221-3423-479f-94f8-248df330d340",
   "metadata": {},
   "outputs": [
    {
     "data": {
      "text/plain": [
       "'hell'"
      ]
     },
     "execution_count": 28,
     "metadata": {},
     "output_type": "execute_result"
    }
   ],
   "source": [
    "d7[0]"
   ]
  },
  {
   "cell_type": "code",
   "execution_count": 30,
   "id": "df97937c-31fa-4575-8048-f0b9f11c96da",
   "metadata": {},
   "outputs": [
    {
     "data": {
      "text/plain": [
       "'yep'"
      ]
     },
     "execution_count": 30,
     "metadata": {},
     "output_type": "execute_result"
    }
   ],
   "source": [
    "d7[0]"
   ]
  },
  {
   "cell_type": "code",
   "execution_count": 31,
   "id": "1ff01818-9e5c-4260-a3e4-50faef45eaea",
   "metadata": {},
   "outputs": [],
   "source": [
    "d8 = {'company':\"pwskills\",\"courses\": [\"web dev\",\"data science\",\"java with dsa\" ]}"
   ]
  },
  {
   "cell_type": "code",
   "execution_count": 32,
   "id": "72b4b16c-e4ce-44e0-ae12-2f901e150c03",
   "metadata": {},
   "outputs": [
    {
     "data": {
      "text/plain": [
       "{'company': 'pwskills',\n",
       " 'courses': ['web dev', 'data science', 'java with dsa']}"
      ]
     },
     "execution_count": 32,
     "metadata": {},
     "output_type": "execute_result"
    }
   ],
   "source": [
    "d8"
   ]
  },
  {
   "cell_type": "code",
   "execution_count": 34,
   "id": "2c920746-1a7b-458d-b543-56f8925f90a0",
   "metadata": {},
   "outputs": [
    {
     "data": {
      "text/plain": [
       "'data science'"
      ]
     },
     "execution_count": 34,
     "metadata": {},
     "output_type": "execute_result"
    }
   ],
   "source": [
    "d8['courses'][1]"
   ]
  },
  {
   "cell_type": "code",
   "execution_count": 3,
   "id": "7ac2ced5-0369-4883-8815-f92ca97656ea",
   "metadata": {},
   "outputs": [],
   "source": [
    "d9 = {\"number\": [2,34,56,78], \"assignment\": (1,3,6,9,8,7), \"launch date\": {28,12,14}, \"class_time\": {\"webdev\": 8, \"java\": 9}}"
   ]
  },
  {
   "cell_type": "code",
   "execution_count": 40,
   "id": "ae8da153-f64a-48c3-9f18-cd64aabed9c9",
   "metadata": {},
   "outputs": [
    {
     "data": {
      "text/plain": [
       "{'company': 'pwskills',\n",
       " 'courses': ['web dev', 'data science', 'java with dsa']}"
      ]
     },
     "execution_count": 40,
     "metadata": {},
     "output_type": "execute_result"
    }
   ],
   "source": [
    "d8"
   ]
  },
  {
   "cell_type": "code",
   "execution_count": 2,
   "id": "de74c2e8-ef5b-4c64-b38e-3afcd9dbaf3e",
   "metadata": {},
   "outputs": [
    {
     "ename": "NameError",
     "evalue": "name 'd9' is not defined",
     "output_type": "error",
     "traceback": [
      "\u001b[0;31m---------------------------------------------------------------------------\u001b[0m",
      "\u001b[0;31mNameError\u001b[0m                                 Traceback (most recent call last)",
      "Cell \u001b[0;32mIn[2], line 1\u001b[0m\n\u001b[0;32m----> 1\u001b[0m \u001b[43md9\u001b[49m\n",
      "\u001b[0;31mNameError\u001b[0m: name 'd9' is not defined"
     ]
    }
   ],
   "source": [
    "d9"
   ]
  },
  {
   "cell_type": "code",
   "execution_count": 1,
   "id": "3984e909-28a8-4827-b936-2fcaf7069038",
   "metadata": {},
   "outputs": [
    {
     "ename": "NameError",
     "evalue": "name 'd9' is not defined",
     "output_type": "error",
     "traceback": [
      "\u001b[0;31m---------------------------------------------------------------------------\u001b[0m",
      "\u001b[0;31mNameError\u001b[0m                                 Traceback (most recent call last)",
      "Cell \u001b[0;32mIn[1], line 1\u001b[0m\n\u001b[0;32m----> 1\u001b[0m \u001b[43md9\u001b[49m\n",
      "\u001b[0;31mNameError\u001b[0m: name 'd9' is not defined"
     ]
    }
   ],
   "source": [
    "d9\n"
   ]
  },
  {
   "cell_type": "code",
   "execution_count": 4,
   "id": "5a885e82-7276-4d46-abe2-33766f7d50e6",
   "metadata": {},
   "outputs": [
    {
     "data": {
      "text/plain": [
       "{'number': [2, 34, 56, 78],\n",
       " 'assignment': (1, 3, 6, 9, 8, 7),\n",
       " 'launch date': {12, 14, 28},\n",
       " 'class_time': {'webdev': 8, 'java': 9}}"
      ]
     },
     "execution_count": 4,
     "metadata": {},
     "output_type": "execute_result"
    }
   ],
   "source": [
    "d9"
   ]
  },
  {
   "cell_type": "code",
   "execution_count": 6,
   "id": "b222c9bc-c450-402c-90e2-5910a8d416eb",
   "metadata": {},
   "outputs": [
    {
     "data": {
      "text/plain": [
       "8"
      ]
     },
     "execution_count": 6,
     "metadata": {},
     "output_type": "execute_result"
    }
   ],
   "source": [
    "d9[\"class_time\"][\"webdev\"]"
   ]
  },
  {
   "cell_type": "code",
   "execution_count": 7,
   "id": "86a5c4fc-4c40-4ec8-b34d-f363ef9c6113",
   "metadata": {},
   "outputs": [],
   "source": [
    "d9[\"mentor\"] = [\"sudh\", \"krish\"]"
   ]
  },
  {
   "cell_type": "code",
   "execution_count": 8,
   "id": "7a34e6c3-6f2f-4a29-b549-f7fe0b4ff91d",
   "metadata": {},
   "outputs": [
    {
     "data": {
      "text/plain": [
       "{'number': [2, 34, 56, 78],\n",
       " 'assignment': (1, 3, 6, 9, 8, 7),\n",
       " 'launch date': {12, 14, 28},\n",
       " 'class_time': {'webdev': 8, 'java': 9},\n",
       " 'mentor': ['sudh', 'krish']}"
      ]
     },
     "execution_count": 8,
     "metadata": {},
     "output_type": "execute_result"
    }
   ],
   "source": [
    "d9"
   ]
  },
  {
   "cell_type": "code",
   "execution_count": 9,
   "id": "89fab9fd-740e-4c49-8628-6b76d9985c89",
   "metadata": {},
   "outputs": [],
   "source": [
    "del d9[\"number\"]"
   ]
  },
  {
   "cell_type": "code",
   "execution_count": 10,
   "id": "fbb24209-6d38-468a-89ce-57f309aae467",
   "metadata": {},
   "outputs": [
    {
     "data": {
      "text/plain": [
       "{'assignment': (1, 3, 6, 9, 8, 7),\n",
       " 'launch date': {12, 14, 28},\n",
       " 'class_time': {'webdev': 8, 'java': 9},\n",
       " 'mentor': ['sudh', 'krish']}"
      ]
     },
     "execution_count": 10,
     "metadata": {},
     "output_type": "execute_result"
    }
   ],
   "source": [
    "d9"
   ]
  },
  {
   "cell_type": "code",
   "execution_count": 14,
   "id": "52803d2d-e6d3-448b-b5dc-42680fe0b5da",
   "metadata": {},
   "outputs": [
    {
     "data": {
      "text/plain": [
       "['assignment', 'launch date', 'class_time', 'mentor']"
      ]
     },
     "execution_count": 14,
     "metadata": {},
     "output_type": "execute_result"
    }
   ],
   "source": [
    "list(d9.keys())"
   ]
  },
  {
   "cell_type": "code",
   "execution_count": 19,
   "id": "959daf79-a9dc-4120-9648-0463129940af",
   "metadata": {},
   "outputs": [
    {
     "data": {
      "text/plain": [
       "[(1, 3, 6, 9, 8, 7), {12, 14, 28}, {'webdev': 8, 'java': 9}, ['sudh', 'krish']]"
      ]
     },
     "execution_count": 19,
     "metadata": {},
     "output_type": "execute_result"
    }
   ],
   "source": [
    "list(d9.values())"
   ]
  },
  {
   "cell_type": "code",
   "execution_count": 20,
   "id": "d873d6a3-21d7-4e8d-93b2-c8bdbc1f0fb7",
   "metadata": {},
   "outputs": [
    {
     "data": {
      "text/plain": [
       "{'assignment': (1, 3, 6, 9, 8, 7),\n",
       " 'launch date': {12, 14, 28},\n",
       " 'class_time': {'webdev': 8, 'java': 9},\n",
       " 'mentor': ['sudh', 'krish']}"
      ]
     },
     "execution_count": 20,
     "metadata": {},
     "output_type": "execute_result"
    }
   ],
   "source": [
    "d9"
   ]
  },
  {
   "cell_type": "code",
   "execution_count": 21,
   "id": "990daef2-4ad4-40b2-8310-99973796e66c",
   "metadata": {},
   "outputs": [
    {
     "data": {
      "text/plain": [
       "dict_items([('assignment', (1, 3, 6, 9, 8, 7)), ('launch date', {28, 12, 14}), ('class_time', {'webdev': 8, 'java': 9}), ('mentor', ['sudh', 'krish'])])"
      ]
     },
     "execution_count": 21,
     "metadata": {},
     "output_type": "execute_result"
    }
   ],
   "source": [
    "d9.items()"
   ]
  },
  {
   "cell_type": "code",
   "execution_count": 22,
   "id": "801f6cc8-eee3-4bba-95aa-d8ec165babac",
   "metadata": {},
   "outputs": [
    {
     "data": {
      "text/plain": [
       "(1, 3, 6, 9, 8, 7)"
      ]
     },
     "execution_count": 22,
     "metadata": {},
     "output_type": "execute_result"
    }
   ],
   "source": [
    "d9.pop(\"assignment\")"
   ]
  },
  {
   "cell_type": "code",
   "execution_count": 23,
   "id": "f17b547c-dbdf-4112-9f2a-c95a5d5a56bb",
   "metadata": {},
   "outputs": [
    {
     "data": {
      "text/plain": [
       "{'launch date': {12, 14, 28},\n",
       " 'class_time': {'webdev': 8, 'java': 9},\n",
       " 'mentor': ['sudh', 'krish']}"
      ]
     },
     "execution_count": 23,
     "metadata": {},
     "output_type": "execute_result"
    }
   ],
   "source": [
    "d9"
   ]
  },
  {
   "cell_type": "code",
   "execution_count": 24,
   "id": "605e550f-7260-49ff-8a9a-2249381efa3f",
   "metadata": {},
   "outputs": [
    {
     "ename": "TypeError",
     "evalue": "pop expected at least 1 argument, got 0",
     "output_type": "error",
     "traceback": [
      "\u001b[0;31m---------------------------------------------------------------------------\u001b[0m",
      "\u001b[0;31mTypeError\u001b[0m                                 Traceback (most recent call last)",
      "Cell \u001b[0;32mIn[24], line 1\u001b[0m\n\u001b[0;32m----> 1\u001b[0m \u001b[43md9\u001b[49m\u001b[38;5;241;43m.\u001b[39;49m\u001b[43mpop\u001b[49m\u001b[43m(\u001b[49m\u001b[43m)\u001b[49m\n",
      "\u001b[0;31mTypeError\u001b[0m: pop expected at least 1 argument, got 0"
     ]
    }
   ],
   "source": [
    "d9.pop()"
   ]
  },
  {
   "cell_type": "code",
   "execution_count": 30,
   "id": "2e5cf0f3-4c6a-4ed4-9018-dcdca6fc9739",
   "metadata": {},
   "outputs": [
    {
     "name": "stdin",
     "output_type": "stream",
     "text": [
      "enter your marks 80\n"
     ]
    },
    {
     "name": "stdout",
     "output_type": "stream",
     "text": [
      "you will be a part of A0 batch\n"
     ]
    }
   ],
   "source": [
    "marks = int(input(\"enter your marks\"))\n",
    "if marks >= 80:\n",
    "    print(\"you will be a part of A0 batch\")\n",
    "elif marks >= 60 and marks <= 80:\n",
    "    print(\"you will be part of A1 batch\")\n",
    "elif marks >= 40 and marks <=60:\n",
    "    print(\"you will be a part of A2 batch\")\n",
    "else:\n",
    "    print(\"you will be a part of A3 batch\")\n"
   ]
  },
  {
   "cell_type": "code",
   "execution_count": 28,
   "id": "84d6bf2c-3bb2-4d48-94ec-a0c44670236a",
   "metadata": {},
   "outputs": [
    {
     "data": {
      "text/plain": [
       "False"
      ]
     },
     "execution_count": 28,
     "metadata": {},
     "output_type": "execute_result"
    }
   ],
   "source": [
    "10>=80"
   ]
  },
  {
   "cell_type": "code",
   "execution_count": 35,
   "id": "be26e794-01ce-4e51-8907-fcc7b4a7f077",
   "metadata": {},
   "outputs": [
    {
     "name": "stdin",
     "output_type": "stream",
     "text": [
      "enter 45\n"
     ]
    }
   ],
   "source": [
    "mark = int(input(\"enter\"))"
   ]
  },
  {
   "cell_type": "code",
   "execution_count": 36,
   "id": "f6574f03-b219-4088-93f8-0e62d9c9545e",
   "metadata": {},
   "outputs": [
    {
     "data": {
      "text/plain": [
       "int"
      ]
     },
     "execution_count": 36,
     "metadata": {},
     "output_type": "execute_result"
    }
   ],
   "source": [
    "type(mark)"
   ]
  },
  {
   "cell_type": "code",
   "execution_count": 41,
   "id": "f2629bb1-a4a7-44aa-b3f6-e4afefb77874",
   "metadata": {},
   "outputs": [
    {
     "name": "stdin",
     "output_type": "stream",
     "text": [
      "enter price 12\n"
     ]
    },
    {
     "name": "stdout",
     "output_type": "stream",
     "text": [
      "i will\n"
     ]
    }
   ],
   "source": [
    "price = int(input(\"enter price\"))\n",
    "if price >1000:\n",
    "    print(\"i will not purchase\")\n",
    "    if price > 5000:\n",
    "        print(\"that's too much\")\n",
    "    elif price < 2000:\n",
    "        print(\"it's ok\")\n",
    "else:\n",
    "    print(\"i will\")\n"
   ]
  },
  {
   "cell_type": "code",
   "execution_count": 59,
   "id": "edcd6854-51ec-40b3-80d4-298be797bac3",
   "metadata": {},
   "outputs": [],
   "source": [
    "k1 = [1,2,3,4,5,6,7]"
   ]
  },
  {
   "cell_type": "code",
   "execution_count": 44,
   "id": "b6d433bf-eb81-4329-b0c2-3f6f734e82de",
   "metadata": {},
   "outputs": [],
   "source": [
    "k.append(8)"
   ]
  },
  {
   "cell_type": "code",
   "execution_count": 45,
   "id": "1841ed46-af61-44d7-a5ff-6ba0ada94488",
   "metadata": {},
   "outputs": [
    {
     "data": {
      "text/plain": [
       "[1, 2, 3, 4, 5, 6, 7, 8]"
      ]
     },
     "execution_count": 45,
     "metadata": {},
     "output_type": "execute_result"
    }
   ],
   "source": [
    "k"
   ]
  },
  {
   "cell_type": "code",
   "execution_count": 46,
   "id": "e0fa4951-a25b-4c15-92c3-396f28793f4e",
   "metadata": {},
   "outputs": [],
   "source": [
    "k.append(8)"
   ]
  },
  {
   "cell_type": "code",
   "execution_count": 47,
   "id": "c6a1bf08-2b8e-4edd-be63-8a1acfda96df",
   "metadata": {},
   "outputs": [
    {
     "data": {
      "text/plain": [
       "[1, 2, 3, 4, 5, 6, 7, 8, 8]"
      ]
     },
     "execution_count": 47,
     "metadata": {},
     "output_type": "execute_result"
    }
   ],
   "source": [
    "k"
   ]
  },
  {
   "cell_type": "code",
   "execution_count": 50,
   "id": "99b3d0c5-ddbb-4655-89b9-eaefc66849da",
   "metadata": {},
   "outputs": [],
   "source": [
    "k.append(k[0]+1)"
   ]
  },
  {
   "cell_type": "code",
   "execution_count": 51,
   "id": "ac252fcf-09ec-41da-bfa7-00b4d18b19ca",
   "metadata": {},
   "outputs": [
    {
     "data": {
      "text/plain": [
       "[1, 2, 3, 4, 5, 6, 7, 8, 8, 2, 2]"
      ]
     },
     "execution_count": 51,
     "metadata": {},
     "output_type": "execute_result"
    }
   ],
   "source": [
    "k"
   ]
  },
  {
   "cell_type": "code",
   "execution_count": 52,
   "id": "e8500316-b319-4001-ac3f-e38600957570",
   "metadata": {},
   "outputs": [
    {
     "data": {
      "text/plain": [
       "2"
      ]
     },
     "execution_count": 52,
     "metadata": {},
     "output_type": "execute_result"
    }
   ],
   "source": [
    "k[0]+1"
   ]
  },
  {
   "cell_type": "code",
   "execution_count": 54,
   "id": "84c10bff-6b9d-4d71-ad47-231d5f8bfe2c",
   "metadata": {},
   "outputs": [],
   "source": [
    "k = []"
   ]
  },
  {
   "cell_type": "code",
   "execution_count": 56,
   "id": "6cd900af-f0a8-4234-bf6f-e39a0520974d",
   "metadata": {},
   "outputs": [
    {
     "ename": "IndexError",
     "evalue": "list index out of range",
     "output_type": "error",
     "traceback": [
      "\u001b[0;31m---------------------------------------------------------------------------\u001b[0m",
      "\u001b[0;31mIndexError\u001b[0m                                Traceback (most recent call last)",
      "Cell \u001b[0;32mIn[56], line 1\u001b[0m\n\u001b[0;32m----> 1\u001b[0m k\u001b[38;5;241m.\u001b[39mappend(\u001b[43mk\u001b[49m\u001b[43m[\u001b[49m\u001b[38;5;241;43m0\u001b[39;49m\u001b[43m]\u001b[49m\u001b[38;5;241m+\u001b[39m\u001b[38;5;241m1\u001b[39m)\n",
      "\u001b[0;31mIndexError\u001b[0m: list index out of range"
     ]
    }
   ],
   "source": [
    "k.append(k[0]+1)"
   ]
  },
  {
   "cell_type": "code",
   "execution_count": 57,
   "id": "87a3ffb9-7dea-42f2-976b-c11574bd6107",
   "metadata": {},
   "outputs": [
    {
     "ename": "IndexError",
     "evalue": "list index out of range",
     "output_type": "error",
     "traceback": [
      "\u001b[0;31m---------------------------------------------------------------------------\u001b[0m",
      "\u001b[0;31mIndexError\u001b[0m                                Traceback (most recent call last)",
      "Cell \u001b[0;32mIn[57], line 1\u001b[0m\n\u001b[0;32m----> 1\u001b[0m \u001b[43mk\u001b[49m\u001b[43m[\u001b[49m\u001b[38;5;241;43m0\u001b[39;49m\u001b[43m]\u001b[49m\n",
      "\u001b[0;31mIndexError\u001b[0m: list index out of range"
     ]
    }
   ],
   "source": [
    "k[0]"
   ]
  },
  {
   "cell_type": "code",
   "execution_count": 58,
   "id": "818d1a68-8724-4094-bc42-8e4d34681ea9",
   "metadata": {},
   "outputs": [
    {
     "ename": "IndexError",
     "evalue": "list index out of range",
     "output_type": "error",
     "traceback": [
      "\u001b[0;31m---------------------------------------------------------------------------\u001b[0m",
      "\u001b[0;31mIndexError\u001b[0m                                Traceback (most recent call last)",
      "Cell \u001b[0;32mIn[58], line 1\u001b[0m\n\u001b[0;32m----> 1\u001b[0m \u001b[43mk\u001b[49m\u001b[43m[\u001b[49m\u001b[38;5;241;43m1\u001b[39;49m\u001b[43m]\u001b[49m\n",
      "\u001b[0;31mIndexError\u001b[0m: list index out of range"
     ]
    }
   ],
   "source": [
    "k[1]"
   ]
  },
  {
   "cell_type": "code",
   "execution_count": 60,
   "id": "1ac1701b-0751-4c8b-91d4-b4635f85b417",
   "metadata": {},
   "outputs": [
    {
     "data": {
      "text/plain": [
       "[1, 2, 3, 4, 5, 6, 7]"
      ]
     },
     "execution_count": 60,
     "metadata": {},
     "output_type": "execute_result"
    }
   ],
   "source": [
    "k1\n"
   ]
  },
  {
   "cell_type": "code",
   "execution_count": 61,
   "id": "c2ea5a5b-e55e-451d-a72a-8b11e667ec23",
   "metadata": {},
   "outputs": [
    {
     "data": {
      "text/plain": [
       "1"
      ]
     },
     "execution_count": 61,
     "metadata": {},
     "output_type": "execute_result"
    }
   ],
   "source": [
    "k1[0]"
   ]
  },
  {
   "cell_type": "code",
   "execution_count": 62,
   "id": "68646af8-5a9b-480a-96a5-26c2e73be571",
   "metadata": {},
   "outputs": [
    {
     "data": {
      "text/plain": [
       "2"
      ]
     },
     "execution_count": 62,
     "metadata": {},
     "output_type": "execute_result"
    }
   ],
   "source": [
    "k1[0] + 1"
   ]
  },
  {
   "cell_type": "code",
   "execution_count": 63,
   "id": "d39383b2-2a41-4fc8-a9a5-9256e047df26",
   "metadata": {},
   "outputs": [],
   "source": [
    "k2 = []"
   ]
  },
  {
   "cell_type": "code",
   "execution_count": 64,
   "id": "576fecfa-8524-4c71-8685-cf0b1dd52913",
   "metadata": {},
   "outputs": [],
   "source": [
    "k2.append(k1[0]+1)"
   ]
  },
  {
   "cell_type": "code",
   "execution_count": 65,
   "id": "52afb85b-407f-47c0-b83b-1af4bd3ca1c3",
   "metadata": {},
   "outputs": [
    {
     "data": {
      "text/plain": [
       "[2]"
      ]
     },
     "execution_count": 65,
     "metadata": {},
     "output_type": "execute_result"
    }
   ],
   "source": [
    "k2"
   ]
  },
  {
   "cell_type": "code",
   "execution_count": 67,
   "id": "6a8ea1ac-4ae3-402c-a27c-1a5a5738275e",
   "metadata": {},
   "outputs": [
    {
     "data": {
      "text/plain": [
       "3"
      ]
     },
     "execution_count": 67,
     "metadata": {},
     "output_type": "execute_result"
    }
   ],
   "source": [
    "k1[1]+1"
   ]
  },
  {
   "cell_type": "code",
   "execution_count": 68,
   "id": "4d5f0ea4-da82-4fcc-acfd-3123e6cc2954",
   "metadata": {},
   "outputs": [
    {
     "data": {
      "text/plain": [
       "2"
      ]
     },
     "execution_count": 68,
     "metadata": {},
     "output_type": "execute_result"
    }
   ],
   "source": [
    "k1[1]"
   ]
  },
  {
   "cell_type": "code",
   "execution_count": 69,
   "id": "e12aea99-f9f5-4cfd-9c5e-4b85f343d844",
   "metadata": {},
   "outputs": [],
   "source": [
    "k2.append(k1[1]+1)"
   ]
  },
  {
   "cell_type": "code",
   "execution_count": 70,
   "id": "4f08cbf5-9c5f-4864-9f48-65ac6f1b3d85",
   "metadata": {},
   "outputs": [
    {
     "data": {
      "text/plain": [
       "[2, 3]"
      ]
     },
     "execution_count": 70,
     "metadata": {},
     "output_type": "execute_result"
    }
   ],
   "source": [
    "k2"
   ]
  },
  {
   "cell_type": "code",
   "execution_count": 3,
   "id": "55c18b50-e1b1-4ad4-9d57-5b911d480398",
   "metadata": {},
   "outputs": [
    {
     "ename": "SyntaxError",
     "evalue": "incomplete input (3013211483.py, line 1)",
     "output_type": "error",
     "traceback": [
      "\u001b[0;36m  Cell \u001b[0;32mIn[3], line 1\u001b[0;36m\u001b[0m\n\u001b[0;31m    for i in k1 :\u001b[0m\n\u001b[0m                 ^\u001b[0m\n\u001b[0;31mSyntaxError\u001b[0m\u001b[0;31m:\u001b[0m incomplete input\n"
     ]
    }
   ],
   "source": [
    "for i in k1 :\n"
   ]
  },
  {
   "cell_type": "code",
   "execution_count": 4,
   "id": "14eb00ae-4987-49df-a75f-beb698164989",
   "metadata": {},
   "outputs": [
    {
     "ename": "NameError",
     "evalue": "name 'k1' is not defined",
     "output_type": "error",
     "traceback": [
      "\u001b[0;31m---------------------------------------------------------------------------\u001b[0m",
      "\u001b[0;31mNameError\u001b[0m                                 Traceback (most recent call last)",
      "Cell \u001b[0;32mIn[4], line 1\u001b[0m\n\u001b[0;32m----> 1\u001b[0m \u001b[43mk1\u001b[49m\n",
      "\u001b[0;31mNameError\u001b[0m: name 'k1' is not defined"
     ]
    }
   ],
   "source": [
    "k1"
   ]
  },
  {
   "cell_type": "code",
   "execution_count": 5,
   "id": "041bcf29-38f8-405d-9812-4bbf592774ae",
   "metadata": {},
   "outputs": [],
   "source": [
    "k1 = [1,2,3,4,5,6,7]"
   ]
  },
  {
   "cell_type": "code",
   "execution_count": 8,
   "id": "d864db53-0843-492e-b4d6-9c3f05ff3544",
   "metadata": {},
   "outputs": [
    {
     "name": "stdout",
     "output_type": "stream",
     "text": [
      "1\n",
      "2\n",
      "3\n",
      "4\n",
      "5\n",
      "6\n",
      "7\n"
     ]
    }
   ],
   "source": [
    "for i in k1:\n",
    "    print(i)\n",
    "    \n",
    "    "
   ]
  },
  {
   "cell_type": "code",
   "execution_count": 9,
   "id": "b4151bfc-6309-4161-a6fb-a002642844df",
   "metadata": {},
   "outputs": [
    {
     "data": {
      "text/plain": [
       "[1, 2, 3, 4, 5, 6, 7]"
      ]
     },
     "execution_count": 9,
     "metadata": {},
     "output_type": "execute_result"
    }
   ],
   "source": [
    "k1"
   ]
  },
  {
   "cell_type": "code",
   "execution_count": 12,
   "id": "01e33ff6-8766-4678-ae80-6e0c439c7def",
   "metadata": {},
   "outputs": [
    {
     "name": "stdout",
     "output_type": "stream",
     "text": [
      "[1, 2, 3, 4, 5, 6, 7]\n",
      "[1, 2, 3, 4, 5, 6, 7]\n",
      "[1, 2, 3, 4, 5, 6, 7]\n",
      "[1, 2, 3, 4, 5, 6, 7]\n",
      "[1, 2, 3, 4, 5, 6, 7]\n",
      "[1, 2, 3, 4, 5, 6, 7]\n",
      "[1, 2, 3, 4, 5, 6, 7]\n"
     ]
    }
   ],
   "source": [
    "for i in k1:\n",
    "    print(k1\n",
    "         )"
   ]
  },
  {
   "cell_type": "code",
   "execution_count": 13,
   "id": "82a2bf2b-4f22-4a3c-a0d7-cbec499a4762",
   "metadata": {},
   "outputs": [
    {
     "data": {
      "text/plain": [
       "[1, 2, 3, 4, 5, 6, 7]"
      ]
     },
     "execution_count": 13,
     "metadata": {},
     "output_type": "execute_result"
    }
   ],
   "source": [
    "k1\n"
   ]
  },
  {
   "cell_type": "code",
   "execution_count": 25,
   "id": "bfb74c68-36f6-48b6-b131-09a900c32548",
   "metadata": {},
   "outputs": [
    {
     "name": "stdout",
     "output_type": "stream",
     "text": [
      "2\n",
      "3\n",
      "4\n",
      "5\n",
      "6\n",
      "7\n",
      "8\n"
     ]
    }
   ],
   "source": [
    "k2 = []\n",
    "for i in k1:\n",
    "    print(i+1)\n",
    "    k2.append(i+1)\n",
    "\n"
   ]
  },
  {
   "cell_type": "code",
   "execution_count": 26,
   "id": "8f1e9229-a903-42a3-a485-5276950e7e96",
   "metadata": {},
   "outputs": [
    {
     "data": {
      "text/plain": [
       "[2, 3, 4, 5, 6, 7, 8]"
      ]
     },
     "execution_count": 26,
     "metadata": {},
     "output_type": "execute_result"
    }
   ],
   "source": [
    "k2"
   ]
  },
  {
   "cell_type": "code",
   "execution_count": 27,
   "id": "0e9787d9-7418-46d0-8974-ff9d9385940a",
   "metadata": {},
   "outputs": [],
   "source": [
    "k = [\"sudh\", \"kumar\", \"pwskills\",\"courses\"]"
   ]
  },
  {
   "cell_type": "code",
   "execution_count": 32,
   "id": "c380d8f6-7651-4cc0-a685-e21eaabbd1b7",
   "metadata": {},
   "outputs": [
    {
     "data": {
      "text/plain": [
       "['SUDH', 'KUMAR', 'PWSKILLS', 'COURSES']"
      ]
     },
     "execution_count": 32,
     "metadata": {},
     "output_type": "execute_result"
    }
   ],
   "source": [
    "k1 = []\n",
    "for i in k:\n",
    "    \n",
    "    k1.append(i.upper())\n",
    "k1    "
   ]
  },
  {
   "cell_type": "code",
   "execution_count": 33,
   "id": "d97596bb-361b-4f7c-b76e-7a57753ad981",
   "metadata": {},
   "outputs": [],
   "source": [
    "l = [1,2,3,\"sudh\", \"kumar\",324,546,\"abc\"]"
   ]
  },
  {
   "cell_type": "code",
   "execution_count": 34,
   "id": "4f0e4a62-c4cb-45a5-9e76-3e5dfc958e2a",
   "metadata": {},
   "outputs": [
    {
     "data": {
      "text/plain": [
       "[1, 2, 3, 'sudh', 'kumar', 324, 546, 'abc']"
      ]
     },
     "execution_count": 34,
     "metadata": {},
     "output_type": "execute_result"
    }
   ],
   "source": [
    "l"
   ]
  },
  {
   "cell_type": "code",
   "execution_count": 43,
   "id": "1225b49e-4fd5-4042-a3b8-5f45072b598b",
   "metadata": {},
   "outputs": [
    {
     "data": {
      "text/plain": [
       "[1, 2, 3, 324, 546]"
      ]
     },
     "execution_count": 43,
     "metadata": {},
     "output_type": "execute_result"
    }
   ],
   "source": [
    "l1_num = []\n",
    "l2_string = []\n",
    "for i in l:\n",
    "    if type(i) == int or type(i) == float:\n",
    "        l1_num.append(i)\n",
    "    else:\n",
    "        l2_string.append(i)\n",
    "        \n",
    "l1_num\n",
    "\n",
    "    \n",
    "    "
   ]
  },
  {
   "cell_type": "code",
   "execution_count": 44,
   "id": "2c49c0b4-08e8-49d8-91e7-c4e29dc1b66d",
   "metadata": {},
   "outputs": [
    {
     "data": {
      "text/plain": [
       "[1, 2, 3, 324, 546]"
      ]
     },
     "execution_count": 44,
     "metadata": {},
     "output_type": "execute_result"
    }
   ],
   "source": [
    "l1_num"
   ]
  },
  {
   "cell_type": "markdown",
   "id": "ddaf753f-25a3-426f-9b3d-16259989eaf8",
   "metadata": {
    "jp-MarkdownHeadingCollapsed": true,
    "tags": []
   },
   "source": [
    "l2_string"
   ]
  },
  {
   "cell_type": "code",
   "execution_count": 45,
   "id": "f18a7a54-7f95-41c7-8c48-f4ebbba078df",
   "metadata": {},
   "outputs": [
    {
     "data": {
      "text/plain": [
       "['sudh', 'kumar', 'abc']"
      ]
     },
     "execution_count": 45,
     "metadata": {},
     "output_type": "execute_result"
    }
   ],
   "source": [
    "l2_string"
   ]
  },
  {
   "cell_type": "code",
   "execution_count": 46,
   "id": "5602555e-e968-42d0-91c5-373991c83643",
   "metadata": {},
   "outputs": [
    {
     "data": {
      "text/plain": [
       "[1, 2, 3, 324, 546]"
      ]
     },
     "execution_count": 46,
     "metadata": {},
     "output_type": "execute_result"
    }
   ],
   "source": [
    "l1_num"
   ]
  },
  {
   "cell_type": "code",
   "execution_count": 47,
   "id": "bf75ccee-17e8-4f92-86d3-7721318c9101",
   "metadata": {},
   "outputs": [
    {
     "data": {
      "text/plain": [
       "['sudh', 'kumar', 'abc']"
      ]
     },
     "execution_count": 47,
     "metadata": {},
     "output_type": "execute_result"
    }
   ],
   "source": [
    "l2_string"
   ]
  },
  {
   "cell_type": "code",
   "execution_count": null,
   "id": "05f4bd1d-78c9-4c11-9d4a-c39f12e6f61f",
   "metadata": {},
   "outputs": [],
   "source": []
  }
 ],
 "metadata": {
  "kernelspec": {
   "display_name": "Python 3 (ipykernel)",
   "language": "python",
   "name": "python3"
  },
  "language_info": {
   "codemirror_mode": {
    "name": "ipython",
    "version": 3
   },
   "file_extension": ".py",
   "mimetype": "text/x-python",
   "name": "python",
   "nbconvert_exporter": "python",
   "pygments_lexer": "ipython3",
   "version": "3.10.8"
  }
 },
 "nbformat": 4,
 "nbformat_minor": 5
}
