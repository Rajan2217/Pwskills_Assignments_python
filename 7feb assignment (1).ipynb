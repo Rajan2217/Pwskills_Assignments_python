{
 "cells": [
  {
   "cell_type": "code",
   "execution_count": 3,
   "id": "10cdf115-7ae7-483f-b5ef-5109b2bdbfcd",
   "metadata": {},
   "outputs": [],
   "source": [
    "# Q - 1\n",
    "\n",
    "def password(ee):\n",
    "    aa = \"ABCDEFGHIJKLMNOPQRSTUVWXYZ\"    \n",
    "    bb = \"abcdefghijklmnopqrstuvwxyz\"\n",
    "    cc = \"0123456789\"\n",
    "    dd = \"!@#$&\"\n",
    "    ll,mm,nn,oo = 0,0,0,0\n",
    "    if (len(ee)>=10):\n",
    "        for i in ee:\n",
    "            if i in aa:\n",
    "                ll+=1\n",
    "                \n",
    "            elif i in bb:\n",
    "                mm+=1\n",
    "            elif i in cc:\n",
    "                nn+=1\n",
    "            elif i in dd:\n",
    "                oo+=1\n",
    "                \n",
    "    if (ll>=2 and mm>=2 and nn>=2 and oo>=2 and ll+mm+nn+oo==len(ee)):\n",
    "        return \"valid\"\n",
    "    else:\n",
    "        return \"not valid\"\n",
    "    "
   ]
  },
  {
   "cell_type": "code",
   "execution_count": 6,
   "id": "df8a205e-7cde-4116-8b65-b659471a87a9",
   "metadata": {},
   "outputs": [
    {
     "data": {
      "text/plain": [
       "'valid'"
      ]
     },
     "execution_count": 6,
     "metadata": {},
     "output_type": "execute_result"
    }
   ],
   "source": [
    "password(\"ADbcd123@@@@\")"
   ]
  },
  {
   "cell_type": "code",
   "execution_count": 1,
   "id": "8743599a-7ba8-42f4-9892-0343dfadaad4",
   "metadata": {},
   "outputs": [
    {
     "name": "stdout",
     "output_type": "stream",
     "text": [
      "start with a\n"
     ]
    }
   ],
   "source": [
    "# Q - 2\n",
    "# Check if the string starts with a particular letter\n",
    "x = \"abcdef\"\n",
    "y = lambda x: print(\"start with a\") if x[0]==\"a\" else print(\"not atart with a\")\n",
    "y(x)"
   ]
  },
  {
   "cell_type": "code",
   "execution_count": 1,
   "id": "11815998-5b55-4fc2-800b-683a53d364ff",
   "metadata": {},
   "outputs": [],
   "source": [
    "#Check if the string is numeric\n",
    "def string_chk(a):\n",
    "    if a.isnumeric()== True:\n",
    "        return(\"num\")\n",
    "    else:\n",
    "        return(\"not num\")\n",
    "    "
   ]
  },
  {
   "cell_type": "code",
   "execution_count": 2,
   "id": "cf164082-b245-4629-9efa-16116dd0e22b",
   "metadata": {},
   "outputs": [
    {
     "data": {
      "text/plain": [
       "'num'"
      ]
     },
     "execution_count": 2,
     "metadata": {},
     "output_type": "execute_result"
    }
   ],
   "source": [
    "string_chk(\"1222222222222223\")"
   ]
  },
  {
   "cell_type": "code",
   "execution_count": 3,
   "id": "21081f8b-33d2-41fa-8886-623cddf53760",
   "metadata": {},
   "outputs": [
    {
     "data": {
      "text/plain": [
       "'\\n##using lambda but not complete\\n\\ndef str_chk(aa):\\n    return lambda aa: aa.isnumeric\\n    if aa == True:\\n        print(\"num\")\\n    else:\\n        print(\"not a num\")'"
      ]
     },
     "execution_count": 3,
     "metadata": {},
     "output_type": "execute_result"
    }
   ],
   "source": [
    "'''\n",
    "##using lambda but not complete\n",
    "\n",
    "def str_chk(aa):\n",
    "    return lambda aa: aa.isnumeric\n",
    "    if aa == True:\n",
    "        print(\"num\")\n",
    "    else:\n",
    "        print(\"not a num\")'''"
   ]
  },
  {
   "cell_type": "code",
   "execution_count": 7,
   "id": "2c616ea7-db3b-4f3b-8f4b-67fff8ef42e4",
   "metadata": {},
   "outputs": [],
   "source": [
    "# Sort a list of tuples having fruit names and their quantity. [(\"mango\",99),(\"orange\",80), (\"grapes\", 1000)]\n",
    "x = [(\"mango\",99),(\"orange\",80), (\"grapes\", 1000)]\n",
    "def sorting(x):\n",
    "    y = x.sort(key = lambda x: x[0])\n",
    "    \n",
    "    return x"
   ]
  },
  {
   "cell_type": "code",
   "execution_count": 8,
   "id": "7b4d5b1b-53b7-4623-a8e4-141ede666aa3",
   "metadata": {},
   "outputs": [
    {
     "data": {
      "text/plain": [
       "[('grapes', 1000), ('mango', 99), ('orange', 80)]"
      ]
     },
     "execution_count": 8,
     "metadata": {},
     "output_type": "execute_result"
    }
   ],
   "source": [
    "sorting(x)"
   ]
  },
  {
   "cell_type": "code",
   "execution_count": 1,
   "id": "dc7c341c-6411-474f-b853-594825fb4d1f",
   "metadata": {},
   "outputs": [],
   "source": [
    "#Find the squares of numbers from 1 to 10\n",
    "\n",
    "def sq(a):\n",
    "    b = a*a\n",
    "    return b"
   ]
  },
  {
   "cell_type": "code",
   "execution_count": 2,
   "id": "288afac0-d447-48fa-986c-10dff919ca58",
   "metadata": {},
   "outputs": [
    {
     "data": {
      "text/plain": [
       "[1, 4, 9, 16, 25, 36, 49, 64, 81, 100]"
      ]
     },
     "execution_count": 2,
     "metadata": {},
     "output_type": "execute_result"
    }
   ],
   "source": [
    "list(map(sq, range(1,11)))"
   ]
  },
  {
   "cell_type": "code",
   "execution_count": 3,
   "id": "adff4594-8bba-4406-bb15-ca84b3aea801",
   "metadata": {},
   "outputs": [],
   "source": [
    "# Find the cube root of numbers from 1 to 10\n",
    "def sq(a):\n",
    "    b = a**(1/3)\n",
    "    return b"
   ]
  },
  {
   "cell_type": "code",
   "execution_count": 4,
   "id": "01041606-b092-4ef1-98a7-11c1691c6362",
   "metadata": {},
   "outputs": [
    {
     "data": {
      "text/plain": [
       "(1.0,\n",
       " 1.2599210498948732,\n",
       " 1.4422495703074083,\n",
       " 1.5874010519681994,\n",
       " 1.7099759466766968,\n",
       " 1.8171205928321397,\n",
       " 1.912931182772389,\n",
       " 2.0,\n",
       " 2.080083823051904,\n",
       " 2.154434690031884)"
      ]
     },
     "execution_count": 4,
     "metadata": {},
     "output_type": "execute_result"
    }
   ],
   "source": [
    "tuple(map(sq, range(1,11)))"
   ]
  },
  {
   "cell_type": "code",
   "execution_count": 5,
   "id": "c1a5926b-45c6-47bf-a639-2c61b8939c78",
   "metadata": {},
   "outputs": [],
   "source": [
    "# Check if a given number is even\n",
    "\n",
    "x = lambda a : \"number is even\" if a%2==0 else \"it isn't even\""
   ]
  },
  {
   "cell_type": "code",
   "execution_count": 6,
   "id": "7a4f4a8c-14c3-4af8-921c-618df452124b",
   "metadata": {},
   "outputs": [
    {
     "data": {
      "text/plain": [
       "'number is even'"
      ]
     },
     "execution_count": 6,
     "metadata": {},
     "output_type": "execute_result"
    }
   ],
   "source": [
    "x(4)"
   ]
  },
  {
   "cell_type": "code",
   "execution_count": 7,
   "id": "e0fa86f5-b2b5-4437-a6f2-87445f277ad8",
   "metadata": {},
   "outputs": [
    {
     "data": {
      "text/plain": [
       "[1, 3, 5, 7, 9]"
      ]
     },
     "execution_count": 7,
     "metadata": {},
     "output_type": "execute_result"
    }
   ],
   "source": [
    "# Filter odd numbers from the given list.\n",
    "x = [1,2,3,4,5,6,7,8,9,10]\n",
    "def filter_list(a):\n",
    "    if a%2==1:\n",
    "        return a\n",
    "    else:\n",
    "        False\n",
    "        \n",
    "list(filter(filter_list, x))"
   ]
  },
  {
   "cell_type": "code",
   "execution_count": 8,
   "id": "161a5b38-b285-4479-881f-0ef0d04e75a6",
   "metadata": {},
   "outputs": [],
   "source": [
    "#Sort a list of integers into positive and negative integers lists(wrong output)\n",
    "x = [1,2,3,4,5,6,-1,-2,-3,-4,-5,0]\n",
    "def np1(a):\n",
    "    l1 = []\n",
    "    l2 = []\n",
    "    if a>0:\n",
    "        qq = l1.append(a)\n",
    "        return l1\n",
    "    elif a<0:\n",
    "        ww = l2.append(a)\n",
    "        return l1\n",
    "    else:\n",
    "        False"
   ]
  },
  {
   "cell_type": "code",
   "execution_count": 10,
   "id": "e4c9f10c-c631-47a9-b6ea-9514f3bd2267",
   "metadata": {},
   "outputs": [
    {
     "data": {
      "text/plain": [
       "([1], [2], [3], [4], [5], [6], [], [], [], [], [], None)"
      ]
     },
     "execution_count": 10,
     "metadata": {},
     "output_type": "execute_result"
    }
   ],
   "source": [
    "tuple(map(np1, x))"
   ]
  },
  {
   "cell_type": "code",
   "execution_count": null,
   "id": "4a50ab60-e2eb-4d42-b6c7-670b269dc0ba",
   "metadata": {},
   "outputs": [],
   "source": []
  }
 ],
 "metadata": {
  "kernelspec": {
   "display_name": "Python 3 (ipykernel)",
   "language": "python",
   "name": "python3"
  },
  "language_info": {
   "codemirror_mode": {
    "name": "ipython",
    "version": 3
   },
   "file_extension": ".py",
   "mimetype": "text/x-python",
   "name": "python",
   "nbconvert_exporter": "python",
   "pygments_lexer": "ipython3",
   "version": "3.10.8"
  }
 },
 "nbformat": 4,
 "nbformat_minor": 5
}
