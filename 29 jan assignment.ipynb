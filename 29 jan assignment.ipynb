{
 "cells": [
  {
   "cell_type": "code",
   "execution_count": null,
   "id": "4bdb819f-0a18-4cd9-9122-9efd159c27f2",
   "metadata": {},
   "outputs": [],
   "source": [
    "'''\n",
    "\n",
    "ANS 1. Python programming language was developed by Guido van Rossum. \n",
    "\n",
    "ANS 2. Python supports several types of programming paradigms, including procedural, object-oriented, and functional \n",
    "programming.\n",
    "\n",
    "ANS 3. Yes, Python is case sensitive when dealing with identifiers. This means that identifiers with different capitalization \n",
    "are considered to be different.\n",
    "\n",
    "ANS 4. The correct extension for a Python file is \".py\".\n",
    "\n",
    "ANS 5. Python code is interpreted, which means that it is executed line by line by the Python interpreter.\n",
    "\n",
    "ANS 6. In Python, code blocks are defined using indentation. Some examples of code blocks include function definitions, loops, \n",
    "and conditional statements.\n",
    "\n",
    "ANS 7. The hash symbol (#) is used to give a single-line command or comment in Python.\n",
    "\n",
    "ANS 8. Some functions that can help us find the version of Python that we are currently working on include sys.version, \n",
    "platform.python_version(), and platform.python_implementation().\n",
    "\n",
    "ANS 9. Python supports the creation of anonymous functions at runtime using a construct called lambda.\n",
    "\n",
    "ANS 10. pip stands for \"pip installs packages\". It is a package management system used to install and manage software packages written in Python.\n",
    "\n",
    "ANS 11. Python has several built-in functions, including print(), len(), type(), input(), range(), and abs().\n",
    "\n",
    "ANS 12. The maximum possible length of an identifier in Python is not specified, but it is typically recommended to use descriptive and concise names for variables, functions, and other objects.\n",
    "\n",
    "Some benefits of using Python include its ease of use, readability, extensive standard library, cross-platform compatibility, and support for multiple programming paradigms.\n",
    "\n",
    "Memory management in Python is handled automatically by the Python interpreter. It uses a combination of reference counting and garbage collection to manage memory allocation and deallocation.\n",
    "\n",
    "To install Python on Windows, you can download the installer from the official Python website and run it. After installation, you need to set the path variable to the Python executable so that it can be run from anywhere on your system.\n",
    "\n",
    "Yes, indentation is required in Python to define code blocks. Indentation is used to group statements together and indicate their level of nesting within a code block."
   ]
  }
 ],
 "metadata": {
  "kernelspec": {
   "display_name": "Python 3 (ipykernel)",
   "language": "python",
   "name": "python3"
  },
  "language_info": {
   "codemirror_mode": {
    "name": "ipython",
    "version": 3
   },
   "file_extension": ".py",
   "mimetype": "text/x-python",
   "name": "python",
   "nbconvert_exporter": "python",
   "pygments_lexer": "ipython3",
   "version": "3.10.8"
  }
 },
 "nbformat": 4,
 "nbformat_minor": 5
}
