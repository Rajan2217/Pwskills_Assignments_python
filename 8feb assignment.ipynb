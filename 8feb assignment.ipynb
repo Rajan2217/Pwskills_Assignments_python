{
 "cells": [
  {
   "cell_type": "code",
   "execution_count": 7,
   "id": "4b0e7de4-e8c8-485a-8c4b-a91c11ff223c",
   "metadata": {},
   "outputs": [
    {
     "name": "stdout",
     "output_type": "stream",
     "text": [
      "its running\n"
     ]
    }
   ],
   "source": [
    "# Q  - 1\n",
    "'''Abstraction: It hides the unnecessary code details from the user.\n",
    "Also,  when we do not want to give out sensitive parts of our code implementation and this is where data abstraction came.\n",
    "'''\n",
    "from abc import ABC, abstractmethod\n",
    "\n",
    "class computer(ABC):\n",
    "    @abstractmethod\n",
    "    def process(self):\n",
    "        pass\n",
    "    \n",
    "# com1 = computer()\n",
    "# com1.process()\n",
    "\n",
    "class laptop(computer):\n",
    "    def process(self):\n",
    "        print(\"its running\")\n",
    "\n",
    "com2 = laptop()\n",
    "com2.process()"
   ]
  },
  {
   "cell_type": "code",
   "execution_count": 2,
   "id": "8dbf6c9d-e11d-4072-afab-9fda2f0d99fc",
   "metadata": {},
   "outputs": [],
   "source": [
    "# Q2. Differentiate between Abstraction and Encapsulation. Explain with an example.\n",
    "'''Abstraction : the property by virtue of which only the essential details are displayed to the user.\n",
    "The trivial or the non-essential units are not displayed to the user. \n",
    "\n",
    "Encapsulation : defined as the wrapping up of data under a single unit. It is the mechanism that binds together code and the \n",
    "data it manipulates. Another way to think about encapsulation is, that it is a protective shield that prevents the data from \n",
    "being accessed by the code outside this shield. \n",
    "'''\n",
    "# Encaptulation example\n",
    "\n",
    "class vehicle:\n",
    "    def __init__(self, wheels, gear, speed):\n",
    "        self.__wheels = wheels\n",
    "        self.__gear = gear\n",
    "        self.__speed = 0\n",
    "        \n",
    "    def set_speed(self, speed)  :\n",
    "            \n",
    "        self.__speed = 0 if speed < 0 else speed\n",
    "            \n",
    "    def get_speed(self)  :\n",
    "        return self.__speed\n"
   ]
  },
  {
   "cell_type": "code",
   "execution_count": 3,
   "id": "5f0d0286-d1bc-42d8-9452-7b6c80f534e8",
   "metadata": {},
   "outputs": [
    {
     "data": {
      "text/plain": [
       "50"
      ]
     },
     "execution_count": 3,
     "metadata": {},
     "output_type": "execute_result"
    }
   ],
   "source": [
    "obj_vehicle = vehicle(4,5,100)\n",
    "obj_vehicle.set_speed(50)\n",
    "obj_vehicle.get_speed()"
   ]
  },
  {
   "cell_type": "code",
   "execution_count": 4,
   "id": "8b880a51-eb1c-48eb-9cac-d59e646b6b87",
   "metadata": {},
   "outputs": [
    {
     "data": {
      "text/plain": [
       "\"\\nabc module : This module provides the infrastructure for defining abstract base classes (ABCs) in Python.\\npython don't have inbuilt abstraction class and method, thus abc module is used to import ABC abstraction class \\nand abstraction method\\n\\n\\n\""
      ]
     },
     "execution_count": 4,
     "metadata": {},
     "output_type": "execute_result"
    }
   ],
   "source": [
    "# Q3. What is abc module in python? Why is it used?\n",
    "\n",
    "'''\n",
    "abc module : This module provides the infrastructure for defining abstract base classes (ABCs) in Python.\n",
    "python don't have inbuilt abstraction class and method, thus abc module is used to import ABC abstraction class \n",
    "and abstraction method\n",
    "\n",
    "\n",
    "'''"
   ]
  },
  {
   "cell_type": "code",
   "execution_count": 5,
   "id": "7e660afb-7bf9-41a0-814e-7eda04bec451",
   "metadata": {},
   "outputs": [
    {
     "name": "stdout",
     "output_type": "stream",
     "text": [
      "its running\n"
     ]
    }
   ],
   "source": [
    "# Q - 4 How can we achieve data abstraction?\n",
    "\n",
    "'''Data Abstraction in Python can be achieved through creating abstract classes and inheriting them later'''\n",
    "from abc import ABC, abstractmethod\n",
    "\n",
    "class computer(ABC):\n",
    "    @abstractmethod\n",
    "    def process(self):\n",
    "        pass\n",
    "    \n",
    "# com1 = computer()\n",
    "# com1.process()\n",
    "\n",
    "class laptop(computer):\n",
    "    def process(self):\n",
    "        print(\"its running\")\n",
    "\n",
    "com2 = laptop()\n",
    "com2.process()"
   ]
  },
  {
   "cell_type": "code",
   "execution_count": null,
   "id": "04ddf066-f4ea-4d54-9f8e-9a4588a8ccbf",
   "metadata": {},
   "outputs": [],
   "source": [
    "# Q5. Can we create an instance of an abstract class? Explain your answer.\n",
    "# Ans. We can not create an instance of an abstract class.\n",
    "\n",
    "from abc import ABC, abstractmethod\n",
    "\n",
    "class abs_class(ABC):\n",
    "    @abstractmethod\n",
    "    def test1(self):\n",
    "        pass"
   ]
  }
 ],
 "metadata": {
  "kernelspec": {
   "display_name": "Python 3 (ipykernel)",
   "language": "python",
   "name": "python3"
  },
  "language_info": {
   "codemirror_mode": {
    "name": "ipython",
    "version": 3
   },
   "file_extension": ".py",
   "mimetype": "text/x-python",
   "name": "python",
   "nbconvert_exporter": "python",
   "pygments_lexer": "ipython3",
   "version": "3.10.8"
  }
 },
 "nbformat": 4,
 "nbformat_minor": 5
}
