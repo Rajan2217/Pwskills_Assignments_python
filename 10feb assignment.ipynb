{
 "cells": [
  {
   "cell_type": "code",
   "execution_count": 1,
   "id": "edb8dba6-0579-4bf7-99ed-79e0a271fc09",
   "metadata": {},
   "outputs": [
    {
     "data": {
      "text/plain": [
       "'open() function is used to open a file.\\nmodes of opening a file:\\n1. open()\\n2. with open\\n'"
      ]
     },
     "execution_count": 1,
     "metadata": {},
     "output_type": "execute_result"
    }
   ],
   "source": [
    "# Q - 1 \n",
    "\"\"\"open() function is used to open a file.\n",
    "modes of opening a file:\n",
    "1. open()\n",
    "2. with open\n",
    "\"\"\"\n"
   ]
  },
  {
   "cell_type": "code",
   "execution_count": 2,
   "id": "af4fccaf-e572-4637-8348-64af3becaf9a",
   "metadata": {},
   "outputs": [],
   "source": [
    "## first way to open\n",
    "\n",
    "f = open(\"x.txt\", \"w\")\n",
    "f.write(\"this is to open a file using 'open function' \")\n",
    "f.close()"
   ]
  },
  {
   "cell_type": "code",
   "execution_count": 3,
   "id": "50eb66d6-ade5-4a29-86fa-ddeb4b6e9b83",
   "metadata": {},
   "outputs": [
    {
     "name": "stdout",
     "output_type": "stream",
     "text": [
      "this is to open a file using 'open function' \n"
     ]
    }
   ],
   "source": [
    "## second way to open\n",
    "\n",
    "with open(\"x1.txt\") as f:\n",
    "    print(f.read())\n",
    "    "
   ]
  },
  {
   "cell_type": "code",
   "execution_count": 4,
   "id": "ed5a9824-2135-48ec-bf8c-7a0c450b7bcb",
   "metadata": {},
   "outputs": [
    {
     "data": {
      "text/plain": [
       "\"close function is used to close the file. It is important to close the file because due to buffering we can't able\\nto see the changes made to the file.\""
      ]
     },
     "execution_count": 4,
     "metadata": {},
     "output_type": "execute_result"
    }
   ],
   "source": [
    "# Q -2 \n",
    "\"\"\"close function is used to close the file. It is important to close the file because due to buffering we can't able\n",
    "to see the changes made to the file.\"\"\""
   ]
  },
  {
   "cell_type": "code",
   "execution_count": 5,
   "id": "7b662320-8a28-45b0-a294-7c1d28b7b351",
   "metadata": {},
   "outputs": [],
   "source": [
    "# Q - 3\n",
    "\n",
    "msg = open(\"x2.txt\", \"w\")\n",
    "msg.write(\"I want to become a Data Scientist\")\n",
    "msg.close()"
   ]
  },
  {
   "cell_type": "code",
   "execution_count": 9,
   "id": "5ba10554-7e7b-4101-aa99-99f39d651e39",
   "metadata": {},
   "outputs": [
    {
     "name": "stdout",
     "output_type": "stream",
     "text": [
      "I want to become a Data Scientist\n"
     ]
    }
   ],
   "source": [
    "msg = open(\"x2.txt\", \"r\")\n",
    "print(msg.read())\n",
    "msg.close()"
   ]
  },
  {
   "cell_type": "code",
   "execution_count": 10,
   "id": "ec08f36b-af61-4575-9663-2e40f7585e5c",
   "metadata": {},
   "outputs": [
    {
     "name": "stdout",
     "output_type": "stream",
     "text": [
      "I want to become a Data Scientist\n"
     ]
    }
   ],
   "source": [
    "with open(\"x2.txt\") as msg:\n",
    "    print(msg.read())"
   ]
  },
  {
   "cell_type": "code",
   "execution_count": null,
   "id": "e16be12f-1e23-4052-8abb-018708bc01de",
   "metadata": {},
   "outputs": [],
   "source": [
    "# Q - 4\n",
    "'''\n",
    "read(): This method reads the entire contents of a file and returns it as a single string. \n",
    "readline(): This method reads a single line from a file and returns it as a string. \n",
    "readlines(): This method reads all the lines in a file and returns them as a list of strings. \n",
    "'''"
   ]
  },
  {
   "cell_type": "code",
   "execution_count": null,
   "id": "f77519f2-0ea6-400a-9132-bf3d133497e4",
   "metadata": {},
   "outputs": [],
   "source": [
    "# Q - 5\n",
    "\n",
    "'''\n",
    "The with statement in Python is used with the open() function to ensure that the file is closed after it has been used.\n",
    "\n",
    "advantage of using with statement and open() together is:\n",
    "automatically handles the closing of the file even if an exception is raised during the execution of the block of code \n",
    "within the with statement. This ensures that the file is properly closed and prevents the possibility of data loss or\n",
    "corruption."
   ]
  },
  {
   "cell_type": "code",
   "execution_count": 1,
   "id": "ff347b8e-5fa5-4e4d-adbc-f60bcc58d7e1",
   "metadata": {},
   "outputs": [],
   "source": [
    "# Q - 6\n",
    "'''\n",
    "write() method writes a single string to a file, while writelines() method writes a list of strings to a file.\n",
    "\n",
    "'''\n",
    "## example to explain write method\n",
    "\n",
    "with open(\"example_for_write.txt\", \"w\") as f:\n",
    "    f.write(\"my name is rajan\\n\")\n",
    "    f.write(\"my sir name is chauhan\\n\")\n",
    "    f.write(\"and i am pwskills student\")"
   ]
  },
  {
   "cell_type": "code",
   "execution_count": 2,
   "id": "55d8c43a-2d5a-48db-8518-d4fd6e7569f8",
   "metadata": {},
   "outputs": [],
   "source": [
    "## example to explain writelines method\n",
    "\n",
    "list_of_strings = [\"first_line.\\n\", \"second_line.\\n\", \"third_line.\"]\n",
    "with open(\"example_for_writelines.txt\", \"w\") as f:\n",
    "    f.writelines(list_of_strings)"
   ]
  },
  {
   "cell_type": "code",
   "execution_count": null,
   "id": "efb67913-d646-411d-af9b-5c738de5567f",
   "metadata": {},
   "outputs": [],
   "source": []
  }
 ],
 "metadata": {
  "kernelspec": {
   "display_name": "Python 3 (ipykernel)",
   "language": "python",
   "name": "python3"
  },
  "language_info": {
   "codemirror_mode": {
    "name": "ipython",
    "version": 3
   },
   "file_extension": ".py",
   "mimetype": "text/x-python",
   "name": "python",
   "nbconvert_exporter": "python",
   "pygments_lexer": "ipython3",
   "version": "3.10.8"
  }
 },
 "nbformat": 4,
 "nbformat_minor": 5
}
