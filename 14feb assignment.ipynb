{
 "cells": [
  {
   "cell_type": "markdown",
   "id": "bf84ba0d-918d-47d6-8335-7db7c09f8e36",
   "metadata": {},
   "source": [
    "## Q-1. What is multithreading in python? why is it used? Name the module used to handle threads in python."
   ]
  },
  {
   "cell_type": "code",
   "execution_count": 2,
   "id": "1ae82c8f-8b2f-4296-881a-5e95d578689b",
   "metadata": {},
   "outputs": [],
   "source": [
    "''' Ans 1.  = Multithreading in python is a capability of a program to have multiple thread of execution in a single process. Threads shared the\n",
    "same resouces and memory space\n",
    "\n",
    "USES:\n",
    "It is used to improve the performance of a program by taking advantage of multiple cores and processors.\n",
    "To make a program more responsive by allowing it to perform multiple tasks simultaneously.\n",
    "\n",
    "Module use: Threading\n",
    "\n",
    "'''\n"
   ]
  },
  {
   "cell_type": "markdown",
   "id": "cc3abe04-da08-4c40-b33a-6b9ce0b9aa08",
   "metadata": {},
   "source": [
    "## Q-2"
   ]
  },
  {
   "cell_type": "code",
   "execution_count": null,
   "id": "f768b1f2-3ea2-4c80-a81d-4e81c63457df",
   "metadata": {},
   "outputs": [],
   "source": [
    "'''\n",
    "Ans 2. \n",
    "\n",
    "The threading module is used in Python to create and manage threads in a program.\n",
    "\n",
    "activeCount(): This function returns the number of active threads in the current thread's thread group. \n",
    "\n",
    "currentThread(): This function returns a reference to the current thread object, which can be used to query or modify its properties. \n",
    "It is useful for identifying the current thread in a multi-threaded program.\n",
    "\n",
    "enumerate(): This function returns a list of all thread objects in the current thread's thread group. It is useful for iterating over all \n",
    "the threads in a program and performing some action on each one."
   ]
  },
  {
   "cell_type": "markdown",
   "id": "e3662637-c2ef-4acf-8f7d-a31b3a2b6ba7",
   "metadata": {},
   "source": [
    "## Q-3"
   ]
  },
  {
   "cell_type": "code",
   "execution_count": null,
   "id": "787c5bef-72f5-4df9-b402-65b597590747",
   "metadata": {},
   "outputs": [],
   "source": [
    "'''\n",
    "Ans 3.\n",
    "\n",
    "run(): This method is the entry point for a new thread of execution. When you create a new Thread object, you can specify a target function that\n",
    "the thread will execute. This target function is called when the run method is invoked, either explicitly or by calling the start method. \n",
    "You can also override the run method in a subclass of Thread to provide your own implementation.\n",
    "\n",
    "start(): This method starts the thread running in a separate control flow from the current thread. It calls the run method of the thread object \n",
    "in a new thread of execution. When the start method returns, the new thread has been started and is running concurrently with the current thread.\n",
    "\n",
    "join(): This method blocks the current thread until the thread being joined completes its execution. You can call join on a Thread object to\n",
    "wait for it to finish. If the thread has already finished, the join method returns immediately. The join method takes an optional timeout \n",
    "argument that specifies how long to wait for the thread to finish.\n",
    "\n",
    "is_alive(): This method returns True if the thread is currently running or is about to run, and False otherwise. You can call this method on a \n",
    "Thread object to check whether it is still running. If the thread has finished, is_alive will return False.\n",
    "\n",
    "'''"
   ]
  },
  {
   "cell_type": "markdown",
   "id": "a6e4b3e3-a4f8-44eb-b51e-bc25ef95c692",
   "metadata": {},
   "source": [
    "## Q4"
   ]
  },
  {
   "cell_type": "code",
   "execution_count": 2,
   "id": "ab56c095-5c91-4d69-998e-d8dc3b2a40fb",
   "metadata": {},
   "outputs": [],
   "source": [
    "## Q- 4.\n",
    "\n",
    "import logging\n",
    "\n",
    "logging.basicConfig(filename=\"14feb_ass.log\", level = logging.INFO)\n",
    "\n",
    "square_list = []\n",
    "cube_list = []\n",
    "\n",
    "def sq():\n",
    "    try:\n",
    "        for i in range(10):\n",
    "            logging.info(\"here inside the loop that need to append square of given range in square list\")\n",
    "            square = i**2\n",
    "            square_list.append(square)\n",
    "    \n",
    "    except Exception as e:\n",
    "        logging.error(e)\n",
    "        \n",
    "def cube():\n",
    "    try:\n",
    "        for j in range(10):\n",
    "            logging.info(\"here inside the loop that need to append cube of given range in cube_list\")\n",
    "            cubes = j**3\n",
    "            cube_list.append(cubes)\n",
    "    except Exception as e:\n",
    "        logging.error(e)\n",
    "        \n",
    "import threading\n",
    "t1 = threading.Thread(target = sq)\n",
    "t2 = threading.Thread(target = cube)\n",
    "\n",
    "t1.start()\n",
    "t2.start()\n",
    "\n",
    "logging.info(\"result for the first thread {}\".format(square_list))\n",
    "logging.info(\"result for the second thread{}\".format(cube_list))\n"
   ]
  },
  {
   "cell_type": "markdown",
   "id": "9036d22d-2a95-45f8-8e89-9ba533e3a902",
   "metadata": {},
   "source": [
    "## Q - 5"
   ]
  },
  {
   "cell_type": "code",
   "execution_count": null,
   "id": "07d40845-f995-4b58-b8d7-adc77d80e294",
   "metadata": {},
   "outputs": [],
   "source": [
    "'''\n",
    "Advantages of multithreading:\n",
    "\n",
    "Improved performance\n",
    "Better resource utilization\n",
    "Improved responsivenes\n",
    "\n",
    "Disadvantages of multithreading:\n",
    "Increased complexity\n",
    "Increased memory usage\n",
    "\n",
    "'''"
   ]
  },
  {
   "cell_type": "markdown",
   "id": "0a892b16-df17-4bd6-8661-121c601cb9b5",
   "metadata": {},
   "source": [
    "## Q6"
   ]
  },
  {
   "cell_type": "code",
   "execution_count": null,
   "id": "ecd1ffa9-ce43-4819-85aa-82cf29b32395",
   "metadata": {},
   "outputs": [],
   "source": [
    "'''\n",
    "Deadlocks: occur when two or more threads or processes are blocked and waiting for each otherto release \n",
    "resources that they need to continue execution.\n",
    "\n",
    "Race conditions : occur when two or more threads or processes access shared resources in an unexpected order\n",
    "or manner\n",
    "'''"
   ]
  }
 ],
 "metadata": {
  "kernelspec": {
   "display_name": "Python 3 (ipykernel)",
   "language": "python",
   "name": "python3"
  },
  "language_info": {
   "codemirror_mode": {
    "name": "ipython",
    "version": 3
   },
   "file_extension": ".py",
   "mimetype": "text/x-python",
   "name": "python",
   "nbconvert_exporter": "python",
   "pygments_lexer": "ipython3",
   "version": "3.10.8"
  }
 },
 "nbformat": 4,
 "nbformat_minor": 5
}
