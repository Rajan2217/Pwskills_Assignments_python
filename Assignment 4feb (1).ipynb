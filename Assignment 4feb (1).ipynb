{
 "cells": [
  {
   "cell_type": "code",
   "execution_count": 1,
   "id": "02238a7c-2f32-4881-af2d-75573bdcbebf",
   "metadata": {},
   "outputs": [],
   "source": [
    "# Q - 1"
   ]
  },
  {
   "cell_type": "code",
   "execution_count": 6,
   "id": "1f84fa35-6d37-4b57-9afe-5706c5e74607",
   "metadata": {},
   "outputs": [],
   "source": [
    "def sort_tup(x):\n",
    "    x.sort(key = lambda i:i[1])\n",
    "    return x"
   ]
  },
  {
   "cell_type": "code",
   "execution_count": 7,
   "id": "916e9028-4ef3-4067-88d3-2f5abcee5fcf",
   "metadata": {},
   "outputs": [],
   "source": [
    "x=[('Sachin Tendulkar', 34357), ('Ricky Ponting', 27483), ('Jack Kallis', 25534), ('Virat Kohli', 24936)]"
   ]
  },
  {
   "cell_type": "code",
   "execution_count": 8,
   "id": "081f218d-7ccf-40e3-8dca-c0949b8fbb76",
   "metadata": {},
   "outputs": [
    {
     "name": "stdout",
     "output_type": "stream",
     "text": [
      "[('Virat Kohli', 24936), ('Jack Kallis', 25534), ('Ricky Ponting', 27483), ('Sachin Tendulkar', 34357)]\n"
     ]
    }
   ],
   "source": [
    "print(sort_tup(x))"
   ]
  },
  {
   "cell_type": "code",
   "execution_count": 13,
   "id": "424a0918-4357-4bd1-96d4-74d65747651f",
   "metadata": {},
   "outputs": [],
   "source": [
    "# Q - 2\n",
    "\n",
    "x = [1, 2, 3, 4, 5, 6, 7, 8, 9, 10]\n",
    "def sq(a):\n",
    "    return a**2\n",
    "\n",
    "# m = lambda s: map(sq , s)\n"
   ]
  },
  {
   "cell_type": "code",
   "execution_count": 14,
   "id": "9a0c6e0f-9f6e-444c-886d-e8d170690262",
   "metadata": {},
   "outputs": [
    {
     "data": {
      "text/plain": [
       "[1, 4, 9, 16, 25, 36, 49, 64, 81, 100]"
      ]
     },
     "execution_count": 14,
     "metadata": {},
     "output_type": "execute_result"
    }
   ],
   "source": [
    "list(map(sq, x))"
   ]
  },
  {
   "cell_type": "code",
   "execution_count": 17,
   "id": "436265b0-2e2a-4eec-a7c4-907045fe8c6e",
   "metadata": {},
   "outputs": [],
   "source": [
    "# Q - 3\n",
    "aa=[1, 2, 3, 4, 5, 6, 7, 8, 9, 10]\n",
    "def l1(zz):\n",
    "    return str(zz)"
   ]
  },
  {
   "cell_type": "code",
   "execution_count": 18,
   "id": "cf6f409e-cc3e-4523-94b8-7c3b1d023884",
   "metadata": {},
   "outputs": [
    {
     "data": {
      "text/plain": [
       "('1', '2', '3', '4', '5', '6', '7', '8', '9', '10')"
      ]
     },
     "execution_count": 18,
     "metadata": {},
     "output_type": "execute_result"
    }
   ],
   "source": [
    "tuple(map(l1, aa))"
   ]
  },
  {
   "cell_type": "code",
   "execution_count": 20,
   "id": "ea062730-92f0-4871-86da-5477cf242802",
   "metadata": {},
   "outputs": [
    {
     "name": "stdout",
     "output_type": "stream",
     "text": [
      "15511210043330985984000000\n"
     ]
    }
   ],
   "source": [
    "# Q-4\n",
    "import functools\n",
    "x = list(range(1,26))\n",
    "print(functools.reduce(lambda a,b: a*b,x))"
   ]
  },
  {
   "cell_type": "code",
   "execution_count": 21,
   "id": "8f6ee95e-41d9-4554-bd3f-9bdf85d488b5",
   "metadata": {},
   "outputs": [],
   "source": [
    "# Q - 5\n",
    "l = [2, 3, 6, 9, 27, 60, 90, 120, 55, 46]\n",
    "\n",
    "def div(l):\n",
    "    if l%2==0 and l%3==0:\n",
    "        return True\n",
    "    else:\n",
    "        False"
   ]
  },
  {
   "cell_type": "code",
   "execution_count": 22,
   "id": "d31c90cf-b00d-4f55-a3d9-5f4ef8789abf",
   "metadata": {},
   "outputs": [
    {
     "data": {
      "text/plain": [
       "[6, 60, 90, 120]"
      ]
     },
     "execution_count": 22,
     "metadata": {},
     "output_type": "execute_result"
    }
   ],
   "source": [
    "list(filter(div,l))"
   ]
  },
  {
   "cell_type": "code",
   "execution_count": null,
   "id": "c8dc425b-f1a9-42e5-bd2a-88049c239647",
   "metadata": {},
   "outputs": [],
   "source": [
    "# Q - 6\n",
    "x = ['python', 'php', 'aba', 'radar', 'level']\n",
    "func1 = lambda a : a if a[::]==a[::-1] else False\n",
    "list(filter(func1, x))"
   ]
  },
  {
   "cell_type": "code",
   "execution_count": null,
   "id": "4e5f3a24-1a38-4965-9d80-c56b992b14bd",
   "metadata": {},
   "outputs": [],
   "source": []
  }
 ],
 "metadata": {
  "kernelspec": {
   "display_name": "Python 3 (ipykernel)",
   "language": "python",
   "name": "python3"
  },
  "language_info": {
   "codemirror_mode": {
    "name": "ipython",
    "version": 3
   },
   "file_extension": ".py",
   "mimetype": "text/x-python",
   "name": "python",
   "nbconvert_exporter": "python",
   "pygments_lexer": "ipython3",
   "version": "3.10.8"
  }
 },
 "nbformat": 4,
 "nbformat_minor": 5
}
