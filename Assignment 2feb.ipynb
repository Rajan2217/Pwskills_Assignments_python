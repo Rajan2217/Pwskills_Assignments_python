{
 "cells": [
  {
   "cell_type": "code",
   "execution_count": 2,
   "id": "395ac6e4-71ef-4d28-8942-e9fe5f2f56cb",
   "metadata": {},
   "outputs": [
    {
     "name": "stdout",
     "output_type": "stream",
     "text": [
      "1\n",
      "2\n",
      "3\n",
      "4\n",
      "5\n",
      "6\n"
     ]
    }
   ],
   "source": [
    "#question-1\n",
    "\n",
    "'''\n",
    "for loop is used when we know specific number of iteration need to execute the code\n",
    "\n",
    "'''\n",
    "# example of for loop\n",
    "\n",
    "x = [1,2,3,4,5,6]\n",
    "\n",
    "for i in x:\n",
    "    print(i)\n"
   ]
  },
  {
   "cell_type": "code",
   "execution_count": 5,
   "id": "055a8043-4ee5-49b6-b94c-5a645cd05f59",
   "metadata": {},
   "outputs": [
    {
     "name": "stdout",
     "output_type": "stream",
     "text": [
      "0\n",
      "1\n",
      "2\n",
      "3\n",
      "4\n",
      "5\n",
      "6\n",
      "7\n",
      "8\n"
     ]
    }
   ],
   "source": [
    "'''\n",
    "while loop is used when we don't know how many iterations code need to execute the statement or group of statement and while loop \n",
    "execute until the condition given get false\n",
    "\n",
    "'''\n",
    "# example of while loop \n",
    "\n",
    "i=0\n",
    "while i<=8:\n",
    "    \n",
    "    print(i)\n",
    "    i+=1\n",
    "    "
   ]
  },
  {
   "cell_type": "code",
   "execution_count": 6,
   "id": "a890c0b7-f561-46ef-a5d0-74ef8f1ddb5a",
   "metadata": {},
   "outputs": [
    {
     "data": {
      "text/plain": [
       "'\\n-------------------------------------\\n'"
      ]
     },
     "execution_count": 6,
     "metadata": {},
     "output_type": "execute_result"
    }
   ],
   "source": [
    "'''\n",
    "-------------------------------------\n",
    "'''\n"
   ]
  },
  {
   "cell_type": "code",
   "execution_count": 2,
   "id": "77b39f27-9545-40e5-9a69-3aca754dfda0",
   "metadata": {},
   "outputs": [
    {
     "name": "stdout",
     "output_type": "stream",
     "text": [
      "sum = 55\n",
      "product = 3628800\n"
     ]
    }
   ],
   "source": [
    "#question2:\n",
    "#using for loop\n",
    "\n",
    "sum1 = 0\n",
    "product = 1\n",
    "counter = 1\n",
    "for i in range(1,11):\n",
    "    sum1 = sum1+counter\n",
    "    product = product*counter\n",
    "    \n",
    "    counter+=1\n",
    "print(\"sum =\",sum1)\n",
    "print(\"product =\",product)\n",
    "\n",
    "    "
   ]
  },
  {
   "cell_type": "code",
   "execution_count": 3,
   "id": "f002a6d6-5b30-48cb-bd84-27eb023d7062",
   "metadata": {},
   "outputs": [
    {
     "name": "stdout",
     "output_type": "stream",
     "text": [
      "sum = 55\n",
      "product = 3628800\n"
     ]
    }
   ],
   "source": [
    "# using while loop\n",
    "\n",
    "#using while loop\n",
    "sum2 = 0\n",
    "product2 = 0\n",
    "counter = 1\n",
    "while counter<=10:\n",
    "        sum2 = sum2+counter\n",
    "        product2 = product2*counter\n",
    "        counter+=1\n",
    "print(\"sum =\", sum2)\n",
    "print(\"product =\", product)"
   ]
  },
  {
   "cell_type": "code",
   "execution_count": 2,
   "id": "5b027cc9-cfd0-468b-aded-15894b286271",
   "metadata": {},
   "outputs": [
    {
     "name": "stdin",
     "output_type": "stream",
     "text": [
      "unit 300\n"
     ]
    },
    {
     "name": "stdout",
     "output_type": "stream",
     "text": [
      "bill = Rs. 2050\n"
     ]
    }
   ],
   "source": [
    "#question 3\n",
    "\n",
    "x = int(input(\"unit\"))\n",
    "\n",
    "if x<=100:\n",
    "    x = 4.5*x\n",
    "elif x>=101 and x<=200:\n",
    "    x = 450 + ((x-100)*6)\n",
    "elif x>=201 and x<=300:\n",
    "    x = 450 + 600 + ((x-200)*10)\n",
    "else:\n",
    "    x= 450 + 600 + 1000 + ((x-300)*20)\n",
    "print(\"bill =\",\"Rs.\",x)"
   ]
  },
  {
   "cell_type": "code",
   "execution_count": 1,
   "id": "634c0752-b301-4489-8537-098b5d6f1409",
   "metadata": {},
   "outputs": [
    {
     "name": "stdout",
     "output_type": "stream",
     "text": [
      "[8, 64, 125, 216, 512, 1000, 1728, 2744, 3375, 4096, 5832, 8000, 10648, 13824, 15625, 17576, 21952, 27000, 32768, 39304, 42875, 46656, 54872, 64000, 74088, 85184, 91125, 97336, 110592, 125000, 140608, 157464, 166375, 175616, 195112, 216000, 238328, 262144, 274625, 287496, 314432, 343000, 373248, 405224, 421875, 438976, 474552, 512000, 551368, 592704, 614125, 636056, 681472, 729000, 778688, 830584, 857375, 884736, 941192, 1000000]\n"
     ]
    }
   ],
   "source": [
    "#question 4\n",
    "\n",
    "x = range(1,101)\n",
    "y = []\n",
    "z = []\n",
    "for i in list(x):\n",
    "    i = i*i*i\n",
    "    y.append(i)\n",
    "\n",
    "\n",
    "for j in list(y):\n",
    "    if j%4==0 or j%5==0:\n",
    "        z.append(j)\n",
    "print(z)\n"
   ]
  },
  {
   "cell_type": "code",
   "execution_count": null,
   "id": "11761dfe-143b-44b8-ba15-547c40b3f4f0",
   "metadata": {},
   "outputs": [],
   "source": []
  }
 ],
 "metadata": {
  "kernelspec": {
   "display_name": "Python 3 (ipykernel)",
   "language": "python",
   "name": "python3"
  },
  "language_info": {
   "codemirror_mode": {
    "name": "ipython",
    "version": 3
   },
   "file_extension": ".py",
   "mimetype": "text/x-python",
   "name": "python",
   "nbconvert_exporter": "python",
   "pygments_lexer": "ipython3",
   "version": "3.10.8"
  }
 },
 "nbformat": 4,
 "nbformat_minor": 5
}
