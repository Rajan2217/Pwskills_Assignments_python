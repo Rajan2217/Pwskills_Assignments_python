{
 "cells": [
  {
   "cell_type": "code",
   "execution_count": 1,
   "id": "ba4ae25f-56b4-47e5-a181-c05c39a691a2",
   "metadata": {},
   "outputs": [
    {
     "data": {
      "text/plain": [
       "'Classes are user-defined data types that act as the blueprint\\nfor individual objects, attributes and methods. Objects are instances of a class created with specifically defined data'"
      ]
     },
     "execution_count": 1,
     "metadata": {},
     "output_type": "execute_result"
    }
   ],
   "source": [
    "#  Q-1\n",
    "'''Classes are user-defined data types that act as the blueprint\n",
    "for individual objects, attributes and methods. Objects are instances of a class created with specifically defined data'''"
   ]
  },
  {
   "cell_type": "code",
   "execution_count": 4,
   "id": "a685cabf-8c36-45b8-8cec-47a4b359aef4",
   "metadata": {},
   "outputs": [
    {
     "data": {
      "text/plain": [
       "'Abstraction\\n\\nEncapsulation\\nPolymorphism\\nInheritance'"
      ]
     },
     "execution_count": 4,
     "metadata": {},
     "output_type": "execute_result"
    }
   ],
   "source": [
    "# Q-2\n",
    "'''Abstraction\n",
    "Encapsulation\n",
    "Polymorphism\n",
    "Inheritance'''"
   ]
  },
  {
   "cell_type": "code",
   "execution_count": 8,
   "id": "9c3c2e08-3c42-44ea-b125-02fcabd90eeb",
   "metadata": {},
   "outputs": [],
   "source": [
    "# Q - 3\n",
    "''' __init__ is a constructor  In object oriented programming, it is known as a constructor. The __init__ method\n",
    "can be called when an object is created from the class, and access is required to initialize the attributes\n",
    "of the class'''\n",
    "\n",
    "class x:\n",
    "    def __init__(self,q):\n",
    "        self.q = q\n",
    "        \n",
    "    def value(self):\n",
    "        print(\"The value I input in q is :\", self.q)\n"
   ]
  },
  {
   "cell_type": "code",
   "execution_count": 9,
   "id": "e72f845a-c462-41ed-9761-06a0bc7de820",
   "metadata": {},
   "outputs": [
    {
     "name": "stdout",
     "output_type": "stream",
     "text": [
      "The value I input in q is : 5\n"
     ]
    }
   ],
   "source": [
    "y = x(5)\n",
    "y.value()"
   ]
  },
  {
   "cell_type": "code",
   "execution_count": 10,
   "id": "098d13a9-682b-41c8-8e53-be5abc5bfdab",
   "metadata": {},
   "outputs": [],
   "source": [
    "# Q - 4\n",
    "# self in oop is used to point or bound the object to the class."
   ]
  },
  {
   "cell_type": "code",
   "execution_count": 1,
   "id": "712ae3ae-de28-4330-a0b6-7e0bb2a2b7e0",
   "metadata": {},
   "outputs": [],
   "source": [
    "#  Q - 5\n",
    "# Inheritance : Inheritance allows us to define a class that inherits all the methods and properties from another class.\n",
    "\n",
    "class parent_cls:\n",
    "    def func1(self):\n",
    "        return \"this is to check inheritance\"\n",
    "    \n",
    "class child_cls(parent_cls):\n",
    "    pass"
   ]
  },
  {
   "cell_type": "code",
   "execution_count": 3,
   "id": "535d8290-e6c0-4d31-8ad4-952a2cf43efd",
   "metadata": {},
   "outputs": [
    {
     "data": {
      "text/plain": [
       "'this is to check inheritance'"
      ]
     },
     "execution_count": 3,
     "metadata": {},
     "output_type": "execute_result"
    }
   ],
   "source": [
    "x = child_cls()\n",
    "x.func1()"
   ]
  },
  {
   "cell_type": "code",
   "execution_count": null,
   "id": "5c18711f-48b3-4d6f-80b5-163d0dd64d1a",
   "metadata": {},
   "outputs": [],
   "source": []
  }
 ],
 "metadata": {
  "kernelspec": {
   "display_name": "Python 3 (ipykernel)",
   "language": "python",
   "name": "python3"
  },
  "language_info": {
   "codemirror_mode": {
    "name": "ipython",
    "version": 3
   },
   "file_extension": ".py",
   "mimetype": "text/x-python",
   "name": "python",
   "nbconvert_exporter": "python",
   "pygments_lexer": "ipython3",
   "version": "3.10.8"
  }
 },
 "nbformat": 4,
 "nbformat_minor": 5
}
