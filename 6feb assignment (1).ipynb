{
 "cells": [
  {
   "cell_type": "code",
   "execution_count": 3,
   "id": "4cf9b63a-288f-4f0a-97ea-bd9b7268deb0",
   "metadata": {},
   "outputs": [],
   "source": [
    "# Q - 1\n",
    "list1 = [1,2,3,4, [44,55,66, True], False, (34,56,78,89,34), {1,2,3,3,2,1}, {1:34, \"key2\": [55, 67, 78, 89], 4: (45,\n",
    "22, 61, 34)}, [56, 'data science'], 'Machine Learning']"
   ]
  },
  {
   "cell_type": "code",
   "execution_count": 15,
   "id": "5171b880-859a-400a-9efb-b6a1b9b5c36b",
   "metadata": {},
   "outputs": [],
   "source": [
    "import functools\n",
    "\n",
    "def only_int(a):\n",
    "    l2 = []\n",
    "    \n",
    "    \n",
    "            \n",
    "        \n",
    "    for i in a:\n",
    "        if type(i)==int:\n",
    "            l2.append(i)\n",
    "        elif type(i)== list:\n",
    "            for j in i:\n",
    "                if type(j) == int:\n",
    "                    l2.append(j)\n",
    "        \n",
    "        elif type(i)== tuple:\n",
    "            for j in i:\n",
    "                if type(j)==int:\n",
    "                    l2.append(j)            \n",
    "        \n",
    "        elif type(i)==set:\n",
    "            for j in i:\n",
    "                if type(j)==int:\n",
    "                    l2.append(j)\n",
    "                    \n",
    "        elif type(i)== dict:\n",
    "            for j in i:\n",
    "                if type(j)==int:\n",
    "                    l2.append(j)        \n",
    "            \n",
    "        else:\n",
    "            False\n",
    "    for q in a:\n",
    "        if type(q)==dict:\n",
    "            for w in q.values():\n",
    "                if type(w)==int:\n",
    "                    l2.append(w)\n",
    "                    \n",
    "    for r in a:\n",
    "        if type(r)==dict:\n",
    "            for t in r.values():\n",
    "                if type(t)==list:\n",
    "                    for p in t:\n",
    "                        l2.append(p)\n",
    "                        \n",
    "    for g in a:\n",
    "        if type(g)==dict:\n",
    "            for h in g.values():\n",
    "                if type(h)==tuple:\n",
    "                    for k in h:\n",
    "                        l2.append(k)\n",
    "                        \n",
    "                        \n",
    "    product1 = functools.reduce(lambda x1,y1: x1*y1, l2)\n",
    "    print(\"product of the new list having only integers is :\",product1)   \n",
    "                        \n",
    "    return \"new list that have only integers\",l2\n"
   ]
  },
  {
   "cell_type": "code",
   "execution_count": 16,
   "id": "dc32bf6d-a15d-4323-8239-49d71439882d",
   "metadata": {},
   "outputs": [
    {
     "name": "stdout",
     "output_type": "stream",
     "text": [
      "product of the new list having only integers is : 4134711838987085478833841242112000\n"
     ]
    },
    {
     "data": {
      "text/plain": [
       "('new list that have only integers',\n",
       " [1,\n",
       "  2,\n",
       "  3,\n",
       "  4,\n",
       "  44,\n",
       "  55,\n",
       "  66,\n",
       "  34,\n",
       "  56,\n",
       "  78,\n",
       "  89,\n",
       "  34,\n",
       "  1,\n",
       "  2,\n",
       "  3,\n",
       "  1,\n",
       "  4,\n",
       "  56,\n",
       "  34,\n",
       "  55,\n",
       "  67,\n",
       "  78,\n",
       "  89,\n",
       "  45,\n",
       "  22,\n",
       "  61,\n",
       "  34])"
      ]
     },
     "execution_count": 16,
     "metadata": {},
     "output_type": "execute_result"
    }
   ],
   "source": [
    "only_int(list1)"
   ]
  },
  {
   "cell_type": "code",
   "execution_count": null,
   "id": "2837045a-9c90-4f9a-8991-b9cc5726070f",
   "metadata": {},
   "outputs": [],
   "source": []
  }
 ],
 "metadata": {
  "kernelspec": {
   "display_name": "Python 3 (ipykernel)",
   "language": "python",
   "name": "python3"
  },
  "language_info": {
   "codemirror_mode": {
    "name": "ipython",
    "version": 3
   },
   "file_extension": ".py",
   "mimetype": "text/x-python",
   "name": "python",
   "nbconvert_exporter": "python",
   "pygments_lexer": "ipython3",
   "version": "3.10.8"
  }
 },
 "nbformat": 4,
 "nbformat_minor": 5
}
