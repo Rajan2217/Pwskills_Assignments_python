{
 "cells": [
  {
   "cell_type": "code",
   "execution_count": 2,
   "id": "c742a73e-f273-4aad-b81d-06b723bb2d80",
   "metadata": {},
   "outputs": [],
   "source": [
    "# Q - 1\n",
    "\n",
    "    class vehicle:\n",
    "        def __init__(self, name_of_vehicle, max_speed, average_of_vehicle):\n",
    "\n",
    "            self.name_of_vehicle = name_of_vehicle\n",
    "            self.max_speed = max_speed\n",
    "            self.average_of_vehicle = average_of_vehicle\n",
    "\n",
    "    def vehicle1(self):\n",
    "        return self.name_of_vehicle, self.max_speed, self.average_of_vehicle\n"
   ]
  },
  {
   "cell_type": "code",
   "execution_count": 6,
   "id": "3cb5e9ed-91d3-4fb1-8474-00ace34b140d",
   "metadata": {},
   "outputs": [
    {
     "data": {
      "text/plain": [
       "('volvo', 120, 9)"
      ]
     },
     "execution_count": 6,
     "metadata": {},
     "output_type": "execute_result"
    }
   ],
   "source": [
    "x = vehicle(\"volvo\", 120, 9 )\n",
    "x.vehicle1()"
   ]
  },
  {
   "cell_type": "code",
   "execution_count": 24,
   "id": "aa489c5b-12d6-46ba-943c-8f5fd10b72c3",
   "metadata": {},
   "outputs": [],
   "source": [
    "\"\"\"Q - 2 Create a child class car from the vehicle class created in Que 1, which will inherit the vehicle class.\n",
    "Create a method named seating_capacity which takes capacity as an argument and returns the name of\n",
    "the vehicle and its seating capacity.\"\"\"\n",
    "\n",
    "class vehicle:\n",
    "    def __init__(self, name_of_vehicle, max_speed, average_of_vehicle):\n",
    "        \n",
    "        self.name_of_vehicle = name_of_vehicle\n",
    "        self.max_speed = max_speed\n",
    "        self.average_of_vehicle = average_of_vehicle\n",
    "    \n",
    "class car(vehicle):\n",
    "    def seating_capacity(self, capacity):\n",
    "        self.capacity = capacity\n",
    "        return \"name of the vehicle : \"+ self.name_of_vehicle, \"capacity of the vehicle : \"+ str(self.capacity)\n",
    "    "
   ]
  },
  {
   "cell_type": "code",
   "execution_count": 25,
   "id": "94892620-3c17-4f0c-b9fe-6ac7d0669379",
   "metadata": {},
   "outputs": [
    {
     "data": {
      "text/plain": [
       "('name of the vehicle : volvo ', 'capacity of the vehicle : 5')"
      ]
     },
     "execution_count": 25,
     "metadata": {},
     "output_type": "execute_result"
    }
   ],
   "source": [
    "obj_car = car(\"volvo \", 250, 8)\n",
    "obj_car.seating_capacity(5)"
   ]
  },
  {
   "cell_type": "code",
   "execution_count": 29,
   "id": "f6cc7e5d-3781-4a52-acdd-0d60dd01ad51",
   "metadata": {},
   "outputs": [],
   "source": [
    "# Q3. What is multiple inheritance? Write a python code to demonstrate multiple inheritance.\n",
    "\n",
    "'''Multiple inheritance is a feature of object-oriented programming in which an object or class can inherit features from more\n",
    "than one parent object or parent class.'''\n",
    "\n",
    "class level1:\n",
    "    def level1_meth(self):\n",
    "        return \"this is from the first parent class method\"\n",
    "    \n",
    "class level2:\n",
    "    def level2_meth(self):\n",
    "        return \"this is from the second parent class method\"\n",
    "    \n",
    "class child(level1, level2):\n",
    "    def child_level(self):\n",
    "        pass"
   ]
  },
  {
   "cell_type": "code",
   "execution_count": 30,
   "id": "9ef4d422-e6e9-40d4-92ed-806dac95b847",
   "metadata": {},
   "outputs": [
    {
     "data": {
      "text/plain": [
       "'this is from the first parent class method'"
      ]
     },
     "execution_count": 30,
     "metadata": {},
     "output_type": "execute_result"
    }
   ],
   "source": [
    "obj_child = child()\n",
    "obj_child.level1_meth()"
   ]
  },
  {
   "cell_type": "code",
   "execution_count": 31,
   "id": "59ddcfdf-f936-4d9e-adfe-0547a198d4d8",
   "metadata": {},
   "outputs": [
    {
     "data": {
      "text/plain": [
       "'this is from the second parent class method'"
      ]
     },
     "execution_count": 31,
     "metadata": {},
     "output_type": "execute_result"
    }
   ],
   "source": [
    "obj_child.level2_meth()"
   ]
  },
  {
   "cell_type": "code",
   "execution_count": 35,
   "id": "7c6fe2b0-8f96-4774-908e-b0d167f544a6",
   "metadata": {},
   "outputs": [],
   "source": [
    "# Q - 4 What are getter and setter in python? Create a class and create a getter and a setter method in this class.\n",
    "\n",
    "# Getter and setter in python is used in encapsulation of data. \n",
    "# Purpose of using getter and setter are - \n",
    "# To retrict the direct access of private data stored as a variable in class field and to avoid the modification of the same.\n",
    "\n",
    "\n",
    "class student:\n",
    "    def __init__(self, stu_name, stu_roll_no, stu_branch):\n",
    "        self.__stu_name = stu_name\n",
    "        self.__stu_roll_no = stu_roll_no\n",
    "        self.__stu_branch = \"Geoscience Engineering\"\n",
    "        \n",
    "    # def student_details(self):\n",
    "    #     return self.stu_name, self.stu_roll_no, self.stu_branch\n",
    "    \n",
    "    def set_stu_name(self, stu_name):\n",
    "        self.stu_name = stu_name\n",
    "    \n",
    "    def get_stu_name(self):\n",
    "        return self.stu_name\n",
    "    \n",
    "x = student(\"Rajan\", 31, \"Geoscience Engineering\")"
   ]
  },
  {
   "cell_type": "code",
   "execution_count": 36,
   "id": "8d5f4978-13a7-4efc-97af-db40782868fd",
   "metadata": {},
   "outputs": [],
   "source": [
    "x.set_stu_name(\"Raj\")"
   ]
  },
  {
   "cell_type": "code",
   "execution_count": 37,
   "id": "dc63134a-3427-4504-82d9-37891a1f2235",
   "metadata": {},
   "outputs": [
    {
     "data": {
      "text/plain": [
       "'Raj'"
      ]
     },
     "execution_count": 37,
     "metadata": {},
     "output_type": "execute_result"
    }
   ],
   "source": [
    "x.get_stu_name()"
   ]
  },
  {
   "cell_type": "code",
   "execution_count": null,
   "id": "a9e4e456-51f4-45f9-8a2d-f4eec7e3bb58",
   "metadata": {},
   "outputs": [],
   "source": [
    "# Q - 5 What is method overriding in python? Write a python code to demonstrate method overriding.\n",
    "\n",
    "'''Method overriding : In python, when we create method of same name and also it has same parameters in different classes.\n",
    "And we call the method have same name, method of subclass is executed because it overrides the method of parent class. '''\n",
    "\n",
    "class parent_test:\n",
    "    \n",
    "    def meth(self):\n",
    "        return \"this is generated from parent class meth\"\n",
    "    \n",
    "class child_test(parent_test):\n",
    "    def meth(self):\n",
    "        return \"this is generated from child class meth\"\n",
    "    \n",
    "x = pa"
   ]
  }
 ],
 "metadata": {
  "kernelspec": {
   "display_name": "Python 3 (ipykernel)",
   "language": "python",
   "name": "python3"
  },
  "language_info": {
   "codemirror_mode": {
    "name": "ipython",
    "version": 3
   },
   "file_extension": ".py",
   "mimetype": "text/x-python",
   "name": "python",
   "nbconvert_exporter": "python",
   "pygments_lexer": "ipython3",
   "version": "3.10.8"
  }
 },
 "nbformat": 4,
 "nbformat_minor": 5
}
